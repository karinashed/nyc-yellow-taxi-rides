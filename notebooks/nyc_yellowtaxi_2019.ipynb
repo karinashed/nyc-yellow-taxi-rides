{
 "cells": [
  {
   "cell_type": "code",
   "execution_count": 1,
   "id": "9a2ded8e",
   "metadata": {},
   "outputs": [],
   "source": [
    "import pandas as pd\n",
    "import pyarrow as pa\n",
    "import pyarrow.parquet as pq\n",
    "import glob\n",
    "import os"
   ]
  },
  {
   "cell_type": "markdown",
   "id": "04df0d51",
   "metadata": {},
   "source": [
    "# 2019 Data"
   ]
  },
  {
   "cell_type": "code",
   "execution_count": 2,
   "id": "c1e1d81d",
   "metadata": {},
   "outputs": [],
   "source": [
    "parquet_urls_19 = [\n",
    "    'https://d37ci6vzurychx.cloudfront.net/trip-data/yellow_tripdata_2019-01.parquet',\n",
    "    'https://d37ci6vzurychx.cloudfront.net/trip-data/yellow_tripdata_2019-02.parquet',\n",
    "    'https://d37ci6vzurychx.cloudfront.net/trip-data/yellow_tripdata_2019-03.parquet',\n",
    "    'https://d37ci6vzurychx.cloudfront.net/trip-data/yellow_tripdata_2019-04.parquet',\n",
    "    'https://d37ci6vzurychx.cloudfront.net/trip-data/yellow_tripdata_2019-05.parquet',\n",
    "    'https://d37ci6vzurychx.cloudfront.net/trip-data/yellow_tripdata_2019-06.parquet',\n",
    "    'https://d37ci6vzurychx.cloudfront.net/trip-data/yellow_tripdata_2019-07.parquet',\n",
    "    'https://d37ci6vzurychx.cloudfront.net/trip-data/yellow_tripdata_2019-08.parquet',\n",
    "    'https://d37ci6vzurychx.cloudfront.net/trip-data/yellow_tripdata_2019-09.parquet',\n",
    "    'https://d37ci6vzurychx.cloudfront.net/trip-data/yellow_tripdata_2019-10.parquet',\n",
    "    'https://d37ci6vzurychx.cloudfront.net/trip-data/yellow_tripdata_2019-11.parquet',\n",
    "    'https://d37ci6vzurychx.cloudfront.net/trip-data/yellow_tripdata_2019-12.parquet'\n",
    "]"
   ]
  },
  {
   "cell_type": "code",
   "execution_count": 3,
   "id": "89ae79a0",
   "metadata": {},
   "outputs": [],
   "source": [
    "all_files = glob.glob('parquet_urls_19')\n",
    "dfs_19 = []\n",
    "for url in parquet_urls_19:\n",
    "    df = pd.read_parquet(url)\n",
    "    dfs_19.append(df)\n",
    "\n",
    "df19 = pd.concat(dfs_19, ignore_index=True)"
   ]
  },
  {
   "cell_type": "markdown",
   "id": "579527ad",
   "metadata": {},
   "source": [
    "#### Add column for percent of total fare the taxi riders have tipped"
   ]
  },
  {
   "cell_type": "code",
   "execution_count": 4,
   "id": "ba5c5e14",
   "metadata": {},
   "outputs": [],
   "source": [
    "df19['tip_percent'] = (df19['tip_amount'] / df19['fare_amount']) * 100"
   ]
  },
  {
   "cell_type": "markdown",
   "id": "5b4f433c",
   "metadata": {},
   "source": [
    "#### To clean the data, make df with only rides that have fares and distance over 0"
   ]
  },
  {
   "cell_type": "code",
   "execution_count": 5,
   "id": "503d517f",
   "metadata": {},
   "outputs": [],
   "source": [
    "df19_cleaned = df19[(df19['total_amount'] > 0) & (df19['trip_distance'] > 0)]"
   ]
  },
  {
   "cell_type": "markdown",
   "id": "0de559a9",
   "metadata": {},
   "source": [
    "### Total Ride Count by Month and Year\n",
    "> This includes all payment types, and cleaned to only include 2020 data"
   ]
  },
  {
   "cell_type": "code",
   "execution_count": 6,
   "id": "7b19204c",
   "metadata": {},
   "outputs": [
    {
     "data": {
      "text/html": [
       "<div>\n",
       "<style scoped>\n",
       "    .dataframe tbody tr th:only-of-type {\n",
       "        vertical-align: middle;\n",
       "    }\n",
       "\n",
       "    .dataframe tbody tr th {\n",
       "        vertical-align: top;\n",
       "    }\n",
       "\n",
       "    .dataframe thead th {\n",
       "        text-align: right;\n",
       "    }\n",
       "</style>\n",
       "<table border=\"1\" class=\"dataframe\">\n",
       "  <thead>\n",
       "    <tr style=\"text-align: right;\">\n",
       "      <th></th>\n",
       "      <th>year</th>\n",
       "      <th>month</th>\n",
       "      <th>count</th>\n",
       "    </tr>\n",
       "  </thead>\n",
       "  <tbody>\n",
       "    <tr>\n",
       "      <th>7</th>\n",
       "      <td>2019</td>\n",
       "      <td>1</td>\n",
       "      <td>7635304</td>\n",
       "    </tr>\n",
       "    <tr>\n",
       "      <th>8</th>\n",
       "      <td>2019</td>\n",
       "      <td>2</td>\n",
       "      <td>6991042</td>\n",
       "    </tr>\n",
       "    <tr>\n",
       "      <th>9</th>\n",
       "      <td>2019</td>\n",
       "      <td>3</td>\n",
       "      <td>7802205</td>\n",
       "    </tr>\n",
       "    <tr>\n",
       "      <th>10</th>\n",
       "      <td>2019</td>\n",
       "      <td>4</td>\n",
       "      <td>7414533</td>\n",
       "    </tr>\n",
       "    <tr>\n",
       "      <th>11</th>\n",
       "      <td>2019</td>\n",
       "      <td>5</td>\n",
       "      <td>7530381</td>\n",
       "    </tr>\n",
       "    <tr>\n",
       "      <th>12</th>\n",
       "      <td>2019</td>\n",
       "      <td>6</td>\n",
       "      <td>6895948</td>\n",
       "    </tr>\n",
       "    <tr>\n",
       "      <th>13</th>\n",
       "      <td>2019</td>\n",
       "      <td>7</td>\n",
       "      <td>6231001</td>\n",
       "    </tr>\n",
       "    <tr>\n",
       "      <th>14</th>\n",
       "      <td>2019</td>\n",
       "      <td>8</td>\n",
       "      <td>5990659</td>\n",
       "    </tr>\n",
       "    <tr>\n",
       "      <th>15</th>\n",
       "      <td>2019</td>\n",
       "      <td>9</td>\n",
       "      <td>6482328</td>\n",
       "    </tr>\n",
       "    <tr>\n",
       "      <th>16</th>\n",
       "      <td>2019</td>\n",
       "      <td>10</td>\n",
       "      <td>7127820</td>\n",
       "    </tr>\n",
       "    <tr>\n",
       "      <th>17</th>\n",
       "      <td>2019</td>\n",
       "      <td>11</td>\n",
       "      <td>6787511</td>\n",
       "    </tr>\n",
       "    <tr>\n",
       "      <th>18</th>\n",
       "      <td>2019</td>\n",
       "      <td>12</td>\n",
       "      <td>6804324</td>\n",
       "    </tr>\n",
       "  </tbody>\n",
       "</table>\n",
       "</div>"
      ],
      "text/plain": [
       "    year  month    count\n",
       "7   2019      1  7635304\n",
       "8   2019      2  6991042\n",
       "9   2019      3  7802205\n",
       "10  2019      4  7414533\n",
       "11  2019      5  7530381\n",
       "12  2019      6  6895948\n",
       "13  2019      7  6231001\n",
       "14  2019      8  5990659\n",
       "15  2019      9  6482328\n",
       "16  2019     10  7127820\n",
       "17  2019     11  6787511\n",
       "18  2019     12  6804324"
      ]
     },
     "execution_count": 6,
     "metadata": {},
     "output_type": "execute_result"
    }
   ],
   "source": [
    "df19_count = df19_cleaned.groupby([df19_cleaned['tpep_pickup_datetime'].dt.year.rename('year'), df19_cleaned['tpep_pickup_datetime'].dt.month.rename('month')]).agg(count=('VendorID', 'size')).reset_index()\n",
    "df19_count_clean = df19_count[df19_count['year'] == 2019]\n",
    "df19_count_clean"
   ]
  },
  {
   "cell_type": "markdown",
   "id": "0ca2c319",
   "metadata": {},
   "source": [
    "### Credit Card vs. Cash Payments\n",
    "> <p> Filtering out other payment types that aren't card or cash and making it a df </p>"
   ]
  },
  {
   "cell_type": "code",
   "execution_count": 7,
   "id": "d3403929",
   "metadata": {},
   "outputs": [],
   "source": [
    "df19_paymenttype = df19_cleaned[(df19_cleaned['payment_type'] == 1) | (df19_cleaned['payment_type'] == 2)]"
   ]
  },
  {
   "cell_type": "code",
   "execution_count": 8,
   "id": "ddf4bbe5",
   "metadata": {},
   "outputs": [
    {
     "data": {
      "text/html": [
       "<div>\n",
       "<style scoped>\n",
       "    .dataframe tbody tr th:only-of-type {\n",
       "        vertical-align: middle;\n",
       "    }\n",
       "\n",
       "    .dataframe tbody tr th {\n",
       "        vertical-align: top;\n",
       "    }\n",
       "\n",
       "    .dataframe thead th {\n",
       "        text-align: right;\n",
       "    }\n",
       "</style>\n",
       "<table border=\"1\" class=\"dataframe\">\n",
       "  <thead>\n",
       "    <tr style=\"text-align: right;\">\n",
       "      <th></th>\n",
       "      <th>Payment Type</th>\n",
       "      <th>Count</th>\n",
       "      <th>Year</th>\n",
       "    </tr>\n",
       "  </thead>\n",
       "  <tbody>\n",
       "    <tr>\n",
       "      <th>0</th>\n",
       "      <td>Credit Card</td>\n",
       "      <td>60243015</td>\n",
       "      <td>2019</td>\n",
       "    </tr>\n",
       "    <tr>\n",
       "      <th>1</th>\n",
       "      <td>Cash</td>\n",
       "      <td>22604397</td>\n",
       "      <td>2019</td>\n",
       "    </tr>\n",
       "  </tbody>\n",
       "</table>\n",
       "</div>"
      ],
      "text/plain": [
       "  Payment Type     Count  Year\n",
       "0  Credit Card  60243015  2019\n",
       "1         Cash  22604397  2019"
      ]
     },
     "execution_count": 8,
     "metadata": {},
     "output_type": "execute_result"
    }
   ],
   "source": [
    "pay_breakdown_19 = df19_paymenttype.payment_type.value_counts()\n",
    "pay_breakdown_19_df = pd.DataFrame({'Payment Type': pay_breakdown_19.index, 'Count': pay_breakdown_19.values})\n",
    "pay_breakdown_19_df['Payment Type'] = pay_breakdown_19_df['Payment Type'].replace({1: 'Credit Card', 2: 'Cash'})\n",
    "pay_breakdown_19_df['Year'] = 2019\n",
    "pay_breakdown_19_df"
   ]
  },
  {
   "cell_type": "markdown",
   "id": "b122d655",
   "metadata": {},
   "source": [
    "### Median tip percentage by month\n",
    "> only for trips where payment method is credit card (1)"
   ]
  },
  {
   "cell_type": "code",
   "execution_count": 9,
   "id": "05f97ca7",
   "metadata": {},
   "outputs": [
    {
     "data": {
      "text/html": [
       "<div>\n",
       "<style scoped>\n",
       "    .dataframe tbody tr th:only-of-type {\n",
       "        vertical-align: middle;\n",
       "    }\n",
       "\n",
       "    .dataframe tbody tr th {\n",
       "        vertical-align: top;\n",
       "    }\n",
       "\n",
       "    .dataframe thead th {\n",
       "        text-align: right;\n",
       "    }\n",
       "</style>\n",
       "<table border=\"1\" class=\"dataframe\">\n",
       "  <thead>\n",
       "    <tr style=\"text-align: right;\">\n",
       "      <th></th>\n",
       "      <th>year</th>\n",
       "      <th>month</th>\n",
       "      <th>count</th>\n",
       "      <th>median_tip</th>\n",
       "    </tr>\n",
       "  </thead>\n",
       "  <tbody>\n",
       "    <tr>\n",
       "      <th>7</th>\n",
       "      <td>2019</td>\n",
       "      <td>1</td>\n",
       "      <td>5462338</td>\n",
       "      <td>22.222222</td>\n",
       "    </tr>\n",
       "    <tr>\n",
       "      <th>8</th>\n",
       "      <td>2019</td>\n",
       "      <td>2</td>\n",
       "      <td>5164758</td>\n",
       "      <td>26.000000</td>\n",
       "    </tr>\n",
       "    <tr>\n",
       "      <th>9</th>\n",
       "      <td>2019</td>\n",
       "      <td>3</td>\n",
       "      <td>5697701</td>\n",
       "      <td>26.190476</td>\n",
       "    </tr>\n",
       "    <tr>\n",
       "      <th>10</th>\n",
       "      <td>2019</td>\n",
       "      <td>4</td>\n",
       "      <td>5331684</td>\n",
       "      <td>26.190476</td>\n",
       "    </tr>\n",
       "    <tr>\n",
       "      <th>11</th>\n",
       "      <td>2019</td>\n",
       "      <td>5</td>\n",
       "      <td>5431608</td>\n",
       "      <td>26.000000</td>\n",
       "    </tr>\n",
       "    <tr>\n",
       "      <th>12</th>\n",
       "      <td>2019</td>\n",
       "      <td>6</td>\n",
       "      <td>4952447</td>\n",
       "      <td>25.931034</td>\n",
       "    </tr>\n",
       "    <tr>\n",
       "      <th>13</th>\n",
       "      <td>2019</td>\n",
       "      <td>7</td>\n",
       "      <td>4387521</td>\n",
       "      <td>26.080000</td>\n",
       "    </tr>\n",
       "    <tr>\n",
       "      <th>14</th>\n",
       "      <td>2019</td>\n",
       "      <td>8</td>\n",
       "      <td>4177053</td>\n",
       "      <td>26.163934</td>\n",
       "    </tr>\n",
       "    <tr>\n",
       "      <th>15</th>\n",
       "      <td>2019</td>\n",
       "      <td>9</td>\n",
       "      <td>4686109</td>\n",
       "      <td>25.909091</td>\n",
       "    </tr>\n",
       "    <tr>\n",
       "      <th>16</th>\n",
       "      <td>2019</td>\n",
       "      <td>10</td>\n",
       "      <td>5177750</td>\n",
       "      <td>26.000000</td>\n",
       "    </tr>\n",
       "    <tr>\n",
       "      <th>17</th>\n",
       "      <td>2019</td>\n",
       "      <td>11</td>\n",
       "      <td>4938585</td>\n",
       "      <td>26.000000</td>\n",
       "    </tr>\n",
       "    <tr>\n",
       "      <th>18</th>\n",
       "      <td>2019</td>\n",
       "      <td>12</td>\n",
       "      <td>4834824</td>\n",
       "      <td>26.190476</td>\n",
       "    </tr>\n",
       "  </tbody>\n",
       "</table>\n",
       "</div>"
      ],
      "text/plain": [
       "    year  month    count  median_tip\n",
       "7   2019      1  5462338   22.222222\n",
       "8   2019      2  5164758   26.000000\n",
       "9   2019      3  5697701   26.190476\n",
       "10  2019      4  5331684   26.190476\n",
       "11  2019      5  5431608   26.000000\n",
       "12  2019      6  4952447   25.931034\n",
       "13  2019      7  4387521   26.080000\n",
       "14  2019      8  4177053   26.163934\n",
       "15  2019      9  4686109   25.909091\n",
       "16  2019     10  5177750   26.000000\n",
       "17  2019     11  4938585   26.000000\n",
       "18  2019     12  4834824   26.190476"
      ]
     },
     "execution_count": 9,
     "metadata": {},
     "output_type": "execute_result"
    }
   ],
   "source": [
    "df19_credit = df19_cleaned[(df19_cleaned['payment_type'] == 1)]\n",
    "df19_tip = df19_credit.groupby([df19_credit['tpep_pickup_datetime'].dt.year.rename('year'), df19_credit['tpep_pickup_datetime'].dt.month.rename('month')]).agg(count=('VendorID', 'size'), median_tip=('tip_percent', 'median')).reset_index()\n",
    "df19_tip_clean = df19_tip[df19_tip['year'] == 2019]\n",
    "df19_tip_clean"
   ]
  },
  {
   "cell_type": "markdown",
   "id": "7ead62d3",
   "metadata": {},
   "source": [
    "## Export each df to csv\n",
    "> to be able to combine with 2020-2023 data in other notebook"
   ]
  },
  {
   "cell_type": "markdown",
   "id": "aef4faee",
   "metadata": {},
   "source": [
    "2019 Ride Count"
   ]
  },
  {
   "cell_type": "code",
   "execution_count": 11,
   "id": "c82409a4",
   "metadata": {},
   "outputs": [],
   "source": [
    "df19_count_clean.to_csv('df19_count.csv', index=False)"
   ]
  },
  {
   "cell_type": "markdown",
   "id": "df00f711",
   "metadata": {},
   "source": [
    "2019 Payment Method Breakdown"
   ]
  },
  {
   "cell_type": "code",
   "execution_count": 10,
   "id": "8cda1342",
   "metadata": {},
   "outputs": [],
   "source": [
    "pay_breakdown_19_df.to_csv('df19_pay_breakdown.csv', index=False)"
   ]
  },
  {
   "cell_type": "markdown",
   "id": "5a5dda10",
   "metadata": {},
   "source": [
    "2019 Median Tip Percentage"
   ]
  },
  {
   "cell_type": "code",
   "execution_count": 12,
   "id": "d010ae9c",
   "metadata": {},
   "outputs": [],
   "source": [
    "df19_tip_clean.to_csv('df19_tip.csv', index=False)"
   ]
  },
  {
   "cell_type": "code",
   "execution_count": null,
   "id": "cec4f2a5",
   "metadata": {},
   "outputs": [],
   "source": []
  }
 ],
 "metadata": {
  "kernelspec": {
   "display_name": "Python 3 (ipykernel)",
   "language": "python",
   "name": "python3"
  },
  "language_info": {
   "codemirror_mode": {
    "name": "ipython",
    "version": 3
   },
   "file_extension": ".py",
   "mimetype": "text/x-python",
   "name": "python",
   "nbconvert_exporter": "python",
   "pygments_lexer": "ipython3",
   "version": "3.10.11"
  }
 },
 "nbformat": 4,
 "nbformat_minor": 5
}
