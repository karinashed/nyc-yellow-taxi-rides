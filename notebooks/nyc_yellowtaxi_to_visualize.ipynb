{
 "cells": [
  {
   "cell_type": "code",
   "execution_count": 1,
   "id": "f5de2930",
   "metadata": {},
   "outputs": [],
   "source": [
    "import pandas as pd\n",
    "import pyarrow as pa\n",
    "import pyarrow.parquet as pq\n",
    "import glob\n",
    "import os"
   ]
  },
  {
   "cell_type": "markdown",
   "id": "8da0fc77",
   "metadata": {},
   "source": [
    "# Combine all data into csvs for visualization"
   ]
  },
  {
   "cell_type": "markdown",
   "id": "173502c7",
   "metadata": {},
   "source": [
    "### Combine all ride count data\n",
    "> df19_count_clean is from 2019 & df_counts.csv is from 2020-2023"
   ]
  },
  {
   "cell_type": "code",
   "execution_count": 7,
   "id": "7570011f",
   "metadata": {},
   "outputs": [],
   "source": [
    "df_counts1 = pd.read_csv('df_counts.csv')\n",
    "df_counts2 = pd.read_csv('df19_count.csv')\n",
    "combined_counts_df = pd.concat([df_counts1, df_counts2], ignore_index=True)"
   ]
  },
  {
   "cell_type": "markdown",
   "id": "44616a35",
   "metadata": {},
   "source": [
    "Combine month and year column to create date column"
   ]
  },
  {
   "cell_type": "code",
   "execution_count": 8,
   "id": "5ca70364",
   "metadata": {},
   "outputs": [],
   "source": [
    "combined_counts_df['combined_date'] = pd.to_datetime(combined_counts_df['year'].astype(str) + '-' + combined_counts_df['month'].astype(str), format='%Y-%m').dt.to_period('M')"
   ]
  },
  {
   "cell_type": "markdown",
   "id": "b20185aa",
   "metadata": {},
   "source": [
    "Convert combined count df to csv"
   ]
  },
  {
   "cell_type": "code",
   "execution_count": 9,
   "id": "6118ba06",
   "metadata": {},
   "outputs": [],
   "source": [
    "combined_counts_df.to_csv('combined_counts.csv', index=False)"
   ]
  },
  {
   "cell_type": "markdown",
   "id": "a80d4c3e",
   "metadata": {},
   "source": [
    "### Combine all payment type data"
   ]
  },
  {
   "cell_type": "code",
   "execution_count": 14,
   "id": "cca81184",
   "metadata": {},
   "outputs": [],
   "source": [
    "df_pay1 = pd.read_csv('df_pay_breakdowns.csv')\n",
    "df_pay2 = pd.read_csv('df19_pay_breakdown.csv')\n",
    "combined_pay_df = pd.concat([df_pay1, df_pay2], ignore_index=True)"
   ]
  },
  {
   "cell_type": "code",
   "execution_count": 18,
   "id": "a9c2e570",
   "metadata": {},
   "outputs": [
    {
     "data": {
      "text/html": [
       "<div>\n",
       "<style scoped>\n",
       "    .dataframe tbody tr th:only-of-type {\n",
       "        vertical-align: middle;\n",
       "    }\n",
       "\n",
       "    .dataframe tbody tr th {\n",
       "        vertical-align: top;\n",
       "    }\n",
       "\n",
       "    .dataframe thead th {\n",
       "        text-align: right;\n",
       "    }\n",
       "</style>\n",
       "<table border=\"1\" class=\"dataframe\">\n",
       "  <thead>\n",
       "    <tr style=\"text-align: right;\">\n",
       "      <th></th>\n",
       "      <th>Payment Type</th>\n",
       "      <th>Count</th>\n",
       "      <th>Year</th>\n",
       "    </tr>\n",
       "  </thead>\n",
       "  <tbody>\n",
       "    <tr>\n",
       "      <th>0</th>\n",
       "      <td>Credit Card</td>\n",
       "      <td>17255529</td>\n",
       "      <td>2020</td>\n",
       "    </tr>\n",
       "    <tr>\n",
       "      <th>1</th>\n",
       "      <td>Cash</td>\n",
       "      <td>6050409</td>\n",
       "      <td>2020</td>\n",
       "    </tr>\n",
       "    <tr>\n",
       "      <th>2</th>\n",
       "      <td>Credit Card</td>\n",
       "      <td>22245974</td>\n",
       "      <td>2021</td>\n",
       "    </tr>\n",
       "    <tr>\n",
       "      <th>3</th>\n",
       "      <td>Cash</td>\n",
       "      <td>6536472</td>\n",
       "      <td>2021</td>\n",
       "    </tr>\n",
       "    <tr>\n",
       "      <th>4</th>\n",
       "      <td>Credit Card</td>\n",
       "      <td>29796585</td>\n",
       "      <td>2022</td>\n",
       "    </tr>\n",
       "    <tr>\n",
       "      <th>5</th>\n",
       "      <td>Cash</td>\n",
       "      <td>7569962</td>\n",
       "      <td>2022</td>\n",
       "    </tr>\n",
       "    <tr>\n",
       "      <th>6</th>\n",
       "      <td>Credit Card</td>\n",
       "      <td>60243015</td>\n",
       "      <td>2019</td>\n",
       "    </tr>\n",
       "    <tr>\n",
       "      <th>7</th>\n",
       "      <td>Cash</td>\n",
       "      <td>22604397</td>\n",
       "      <td>2019</td>\n",
       "    </tr>\n",
       "  </tbody>\n",
       "</table>\n",
       "</div>"
      ],
      "text/plain": [
       "  Payment Type     Count  Year\n",
       "0  Credit Card  17255529  2020\n",
       "1         Cash   6050409  2020\n",
       "2  Credit Card  22245974  2021\n",
       "3         Cash   6536472  2021\n",
       "4  Credit Card  29796585  2022\n",
       "5         Cash   7569962  2022\n",
       "6  Credit Card  60243015  2019\n",
       "7         Cash  22604397  2019"
      ]
     },
     "execution_count": 18,
     "metadata": {},
     "output_type": "execute_result"
    }
   ],
   "source": [
    "combined_pay_df"
   ]
  },
  {
   "cell_type": "markdown",
   "id": "e3d9801b",
   "metadata": {},
   "source": [
    "Pivot the payment type data so that 'payment type' is the index in order to compare each year by payment type breakdown"
   ]
  },
  {
   "cell_type": "code",
   "execution_count": 15,
   "id": "f11942bc",
   "metadata": {},
   "outputs": [],
   "source": [
    "pivot_df = combined_pay_df.pivot(index='Payment Type', columns='Year', values='Count')"
   ]
  },
  {
   "cell_type": "code",
   "execution_count": 19,
   "id": "d6395726",
   "metadata": {},
   "outputs": [
    {
     "data": {
      "text/html": [
       "<div>\n",
       "<style scoped>\n",
       "    .dataframe tbody tr th:only-of-type {\n",
       "        vertical-align: middle;\n",
       "    }\n",
       "\n",
       "    .dataframe tbody tr th {\n",
       "        vertical-align: top;\n",
       "    }\n",
       "\n",
       "    .dataframe thead th {\n",
       "        text-align: right;\n",
       "    }\n",
       "</style>\n",
       "<table border=\"1\" class=\"dataframe\">\n",
       "  <thead>\n",
       "    <tr style=\"text-align: right;\">\n",
       "      <th>Year</th>\n",
       "      <th>2019</th>\n",
       "      <th>2020</th>\n",
       "      <th>2021</th>\n",
       "      <th>2022</th>\n",
       "    </tr>\n",
       "    <tr>\n",
       "      <th>Payment Type</th>\n",
       "      <th></th>\n",
       "      <th></th>\n",
       "      <th></th>\n",
       "      <th></th>\n",
       "    </tr>\n",
       "  </thead>\n",
       "  <tbody>\n",
       "    <tr>\n",
       "      <th>Cash</th>\n",
       "      <td>22604397</td>\n",
       "      <td>6050409</td>\n",
       "      <td>6536472</td>\n",
       "      <td>7569962</td>\n",
       "    </tr>\n",
       "    <tr>\n",
       "      <th>Credit Card</th>\n",
       "      <td>60243015</td>\n",
       "      <td>17255529</td>\n",
       "      <td>22245974</td>\n",
       "      <td>29796585</td>\n",
       "    </tr>\n",
       "  </tbody>\n",
       "</table>\n",
       "</div>"
      ],
      "text/plain": [
       "Year              2019      2020      2021      2022\n",
       "Payment Type                                        \n",
       "Cash          22604397   6050409   6536472   7569962\n",
       "Credit Card   60243015  17255529  22245974  29796585"
      ]
     },
     "execution_count": 19,
     "metadata": {},
     "output_type": "execute_result"
    }
   ],
   "source": [
    "pivot_df"
   ]
  },
  {
   "cell_type": "code",
   "execution_count": 26,
   "id": "1eb3e116",
   "metadata": {},
   "outputs": [],
   "source": [
    "pivot_df.to_csv('combined_pay_reformatted.csv')"
   ]
  },
  {
   "cell_type": "markdown",
   "id": "b6dfec90",
   "metadata": {},
   "source": [
    "### Combine all median tip data"
   ]
  },
  {
   "cell_type": "code",
   "execution_count": 21,
   "id": "81047cd5",
   "metadata": {},
   "outputs": [],
   "source": [
    "df_tips1 = pd.read_csv('df_tips.csv')\n",
    "df_tips2 = pd.read_csv('df19_tip.csv')\n",
    "combined_tip_df = pd.concat([df_tips1, df_tips2], ignore_index=True)"
   ]
  },
  {
   "cell_type": "markdown",
   "id": "14961a8f",
   "metadata": {},
   "source": [
    "Combine month and year column to create date column"
   ]
  },
  {
   "cell_type": "code",
   "execution_count": 23,
   "id": "ab169a55",
   "metadata": {},
   "outputs": [],
   "source": [
    "combined_tip_df['combined_date'] = pd.to_datetime(combined_tip_df['year'].astype(str) + '-' + combined_tip_df['month'].astype(str), format='%Y-%m').dt.to_period('M')"
   ]
  },
  {
   "cell_type": "markdown",
   "id": "b0267f9f",
   "metadata": {},
   "source": [
    "Convert combined count df to csv"
   ]
  },
  {
   "cell_type": "code",
   "execution_count": 25,
   "id": "4cc4f063",
   "metadata": {},
   "outputs": [],
   "source": [
    "combined_tip_df.to_csv('combined_tips.csv', index=False)"
   ]
  },
  {
   "cell_type": "code",
   "execution_count": null,
   "id": "17347263",
   "metadata": {},
   "outputs": [],
   "source": []
  }
 ],
 "metadata": {
  "kernelspec": {
   "display_name": "Python 3 (ipykernel)",
   "language": "python",
   "name": "python3"
  },
  "language_info": {
   "codemirror_mode": {
    "name": "ipython",
    "version": 3
   },
   "file_extension": ".py",
   "mimetype": "text/x-python",
   "name": "python",
   "nbconvert_exporter": "python",
   "pygments_lexer": "ipython3",
   "version": "3.10.11"
  }
 },
 "nbformat": 4,
 "nbformat_minor": 5
}
