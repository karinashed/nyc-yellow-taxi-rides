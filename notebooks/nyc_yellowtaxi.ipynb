{
 "cells": [
  {
   "cell_type": "code",
   "execution_count": 1,
   "id": "ae6430fa",
   "metadata": {},
   "outputs": [],
   "source": [
    "import pandas as pd\n",
    "import pyarrow as pa\n",
    "import pyarrow.parquet as pq\n",
    "import glob\n",
    "import os"
   ]
  },
  {
   "cell_type": "markdown",
   "id": "0f5b20eb",
   "metadata": {},
   "source": [
    "# 2023 Data"
   ]
  },
  {
   "cell_type": "code",
   "execution_count": 2,
   "id": "3f40912d",
   "metadata": {},
   "outputs": [],
   "source": [
    "parquet_urls_23 = [\n",
    "    'https://d37ci6vzurychx.cloudfront.net/trip-data/yellow_tripdata_2023-01.parquet',\n",
    "    'https://d37ci6vzurychx.cloudfront.net/trip-data/yellow_tripdata_2023-02.parquet',\n",
    "    'https://d37ci6vzurychx.cloudfront.net/trip-data/yellow_tripdata_2023-03.parquet',\n",
    "    'https://d37ci6vzurychx.cloudfront.net/trip-data/yellow_tripdata_2023-04.parquet'\n",
    "]"
   ]
  },
  {
   "cell_type": "markdown",
   "id": "66af8f59",
   "metadata": {},
   "source": [
    "#### Pull all links for 2023 data into a single DataFrame"
   ]
  },
  {
   "cell_type": "code",
   "execution_count": 3,
   "id": "edadc8a0",
   "metadata": {},
   "outputs": [],
   "source": [
    "all_files = glob.glob('parquet_urls_23')\n",
    "dfs_23 = []\n",
    "for url in parquet_urls_23:\n",
    "    df = pd.read_parquet(url)\n",
    "    dfs_23.append(df)\n",
    "\n",
    "df23 = pd.concat(dfs_23, ignore_index=True)"
   ]
  },
  {
   "cell_type": "markdown",
   "id": "a1073712",
   "metadata": {},
   "source": [
    "#### Checking out what might be muddying up the data"
   ]
  },
  {
   "cell_type": "code",
   "execution_count": 4,
   "id": "01bf4f9f",
   "metadata": {},
   "outputs": [
    {
     "data": {
      "text/plain": [
       "175722"
      ]
     },
     "execution_count": 4,
     "metadata": {},
     "output_type": "execute_result"
    }
   ],
   "source": [
    "#How many trips have total distance with negative or 0 distance?\n",
    "df23_no_distance = df23[df23['trip_distance'] <= 0]\n",
    "count_df23_no_distance = df23_no_distance.shape[0]\n",
    "count_df23_no_distance"
   ]
  },
  {
   "cell_type": "code",
   "execution_count": 5,
   "id": "5a925544",
   "metadata": {},
   "outputs": [
    {
     "data": {
      "text/plain": [
       "111873"
      ]
     },
     "execution_count": 5,
     "metadata": {},
     "output_type": "execute_result"
    }
   ],
   "source": [
    "#How many trips have total fares listed with negative or 0 value?\n",
    "df23_negative_total = df23[df23['total_amount'] <= 0]\n",
    "count_df23_negative_total = df23_negative_total.shape[0]\n",
    "count_df23_negative_total"
   ]
  },
  {
   "cell_type": "code",
   "execution_count": 6,
   "id": "49c43617",
   "metadata": {},
   "outputs": [
    {
     "data": {
      "text/plain": [
       "payment_type\n",
       "4    64460\n",
       "2    26093\n",
       "3    20184\n",
       "1      955\n",
       "0      180\n",
       "5        1\n",
       "Name: count, dtype: int64"
      ]
     },
     "execution_count": 6,
     "metadata": {},
     "output_type": "execute_result"
    }
   ],
   "source": [
    "#Which payment types are showing negative or 0 values?\n",
    "#Most are 4 (Dispute), 2 (Cash), 3 (No charge)\n",
    "#https://www.nyc.gov/assets/tlc/downloads/pdf/data_dictionary_trip_records_yellow.pdf\n",
    "df23_negative_total.payment_type.value_counts()"
   ]
  },
  {
   "cell_type": "markdown",
   "id": "b4586aa0",
   "metadata": {},
   "source": [
    "#### Add column for percent of total fare the taxi riders have tipped"
   ]
  },
  {
   "cell_type": "code",
   "execution_count": 7,
   "id": "463d0bc8",
   "metadata": {},
   "outputs": [],
   "source": [
    "df23['tip_percent'] = (df23['tip_amount'] / df23['fare_amount']) * 100"
   ]
  },
  {
   "cell_type": "markdown",
   "id": "39923b85",
   "metadata": {},
   "source": [
    "#### To clean the data, make df with only rides that have fares and distance over 0"
   ]
  },
  {
   "cell_type": "code",
   "execution_count": 8,
   "id": "8d78cda0",
   "metadata": {},
   "outputs": [],
   "source": [
    "df23_cleaned = df23[(df23['total_amount'] > 0) & (df23['trip_distance'] > 0)]"
   ]
  },
  {
   "cell_type": "markdown",
   "id": "fb40c00f",
   "metadata": {},
   "source": [
    "#### Make df that shows total ride count by Month and Year\n",
    "> This includes all payment types"
   ]
  },
  {
   "cell_type": "code",
   "execution_count": 9,
   "id": "ca2851c0",
   "metadata": {},
   "outputs": [
    {
     "data": {
      "text/html": [
       "<div>\n",
       "<style scoped>\n",
       "    .dataframe tbody tr th:only-of-type {\n",
       "        vertical-align: middle;\n",
       "    }\n",
       "\n",
       "    .dataframe tbody tr th {\n",
       "        vertical-align: top;\n",
       "    }\n",
       "\n",
       "    .dataframe thead th {\n",
       "        text-align: right;\n",
       "    }\n",
       "</style>\n",
       "<table border=\"1\" class=\"dataframe\">\n",
       "  <thead>\n",
       "    <tr style=\"text-align: right;\">\n",
       "      <th></th>\n",
       "      <th>year</th>\n",
       "      <th>month</th>\n",
       "      <th>count</th>\n",
       "    </tr>\n",
       "  </thead>\n",
       "  <tbody>\n",
       "    <tr>\n",
       "      <th>0</th>\n",
       "      <td>2001</td>\n",
       "      <td>1</td>\n",
       "      <td>6</td>\n",
       "    </tr>\n",
       "    <tr>\n",
       "      <th>1</th>\n",
       "      <td>2002</td>\n",
       "      <td>12</td>\n",
       "      <td>3</td>\n",
       "    </tr>\n",
       "    <tr>\n",
       "      <th>2</th>\n",
       "      <td>2003</td>\n",
       "      <td>1</td>\n",
       "      <td>4</td>\n",
       "    </tr>\n",
       "    <tr>\n",
       "      <th>3</th>\n",
       "      <td>2008</td>\n",
       "      <td>12</td>\n",
       "      <td>10</td>\n",
       "    </tr>\n",
       "    <tr>\n",
       "      <th>4</th>\n",
       "      <td>2009</td>\n",
       "      <td>1</td>\n",
       "      <td>1</td>\n",
       "    </tr>\n",
       "    <tr>\n",
       "      <th>5</th>\n",
       "      <td>2014</td>\n",
       "      <td>11</td>\n",
       "      <td>1</td>\n",
       "    </tr>\n",
       "    <tr>\n",
       "      <th>6</th>\n",
       "      <td>2022</td>\n",
       "      <td>10</td>\n",
       "      <td>6</td>\n",
       "    </tr>\n",
       "    <tr>\n",
       "      <th>7</th>\n",
       "      <td>2022</td>\n",
       "      <td>12</td>\n",
       "      <td>25</td>\n",
       "    </tr>\n",
       "    <tr>\n",
       "      <th>8</th>\n",
       "      <td>2023</td>\n",
       "      <td>1</td>\n",
       "      <td>2998608</td>\n",
       "    </tr>\n",
       "    <tr>\n",
       "      <th>9</th>\n",
       "      <td>2023</td>\n",
       "      <td>2</td>\n",
       "      <td>2850852</td>\n",
       "    </tr>\n",
       "    <tr>\n",
       "      <th>10</th>\n",
       "      <td>2023</td>\n",
       "      <td>3</td>\n",
       "      <td>3328989</td>\n",
       "    </tr>\n",
       "    <tr>\n",
       "      <th>11</th>\n",
       "      <td>2023</td>\n",
       "      <td>4</td>\n",
       "      <td>3221451</td>\n",
       "    </tr>\n",
       "    <tr>\n",
       "      <th>12</th>\n",
       "      <td>2023</td>\n",
       "      <td>5</td>\n",
       "      <td>46</td>\n",
       "    </tr>\n",
       "  </tbody>\n",
       "</table>\n",
       "</div>"
      ],
      "text/plain": [
       "    year  month    count\n",
       "0   2001      1        6\n",
       "1   2002     12        3\n",
       "2   2003      1        4\n",
       "3   2008     12       10\n",
       "4   2009      1        1\n",
       "5   2014     11        1\n",
       "6   2022     10        6\n",
       "7   2022     12       25\n",
       "8   2023      1  2998608\n",
       "9   2023      2  2850852\n",
       "10  2023      3  3328989\n",
       "11  2023      4  3221451\n",
       "12  2023      5       46"
      ]
     },
     "execution_count": 9,
     "metadata": {},
     "output_type": "execute_result"
    }
   ],
   "source": [
    "df23_count = df23_cleaned.groupby([df23_cleaned['tpep_pickup_datetime'].dt.year.rename('year'), df23_cleaned['tpep_pickup_datetime'].dt.month.rename('month')]).agg(count=('VendorID', 'size')).reset_index()\n",
    "df23_count "
   ]
  },
  {
   "cell_type": "markdown",
   "id": "b2581ea1",
   "metadata": {},
   "source": [
    "> We can see that the data includes dates other than 2023. Unclear if it's an error, so removing all other dates"
   ]
  },
  {
   "cell_type": "code",
   "execution_count": 10,
   "id": "2d0c3965",
   "metadata": {},
   "outputs": [
    {
     "data": {
      "text/html": [
       "<div>\n",
       "<style scoped>\n",
       "    .dataframe tbody tr th:only-of-type {\n",
       "        vertical-align: middle;\n",
       "    }\n",
       "\n",
       "    .dataframe tbody tr th {\n",
       "        vertical-align: top;\n",
       "    }\n",
       "\n",
       "    .dataframe thead th {\n",
       "        text-align: right;\n",
       "    }\n",
       "</style>\n",
       "<table border=\"1\" class=\"dataframe\">\n",
       "  <thead>\n",
       "    <tr style=\"text-align: right;\">\n",
       "      <th></th>\n",
       "      <th>year</th>\n",
       "      <th>month</th>\n",
       "      <th>count</th>\n",
       "    </tr>\n",
       "  </thead>\n",
       "  <tbody>\n",
       "    <tr>\n",
       "      <th>8</th>\n",
       "      <td>2023</td>\n",
       "      <td>1</td>\n",
       "      <td>2998608</td>\n",
       "    </tr>\n",
       "    <tr>\n",
       "      <th>9</th>\n",
       "      <td>2023</td>\n",
       "      <td>2</td>\n",
       "      <td>2850852</td>\n",
       "    </tr>\n",
       "    <tr>\n",
       "      <th>10</th>\n",
       "      <td>2023</td>\n",
       "      <td>3</td>\n",
       "      <td>3328989</td>\n",
       "    </tr>\n",
       "    <tr>\n",
       "      <th>11</th>\n",
       "      <td>2023</td>\n",
       "      <td>4</td>\n",
       "      <td>3221451</td>\n",
       "    </tr>\n",
       "    <tr>\n",
       "      <th>12</th>\n",
       "      <td>2023</td>\n",
       "      <td>5</td>\n",
       "      <td>46</td>\n",
       "    </tr>\n",
       "  </tbody>\n",
       "</table>\n",
       "</div>"
      ],
      "text/plain": [
       "    year  month    count\n",
       "8   2023      1  2998608\n",
       "9   2023      2  2850852\n",
       "10  2023      3  3328989\n",
       "11  2023      4  3221451\n",
       "12  2023      5       46"
      ]
     },
     "execution_count": 10,
     "metadata": {},
     "output_type": "execute_result"
    }
   ],
   "source": [
    "df23_count_clean = df23_count[df23_count['year'] == 2023]\n",
    "df23_count_clean"
   ]
  },
  {
   "cell_type": "markdown",
   "id": "25eccdd1",
   "metadata": {},
   "source": [
    "#### Want to calculate how often people pay with card vs. cash\n",
    "> <p> Filtering out other payment types that aren't card or cash </p>"
   ]
  },
  {
   "cell_type": "code",
   "execution_count": 11,
   "id": "dcaeded2",
   "metadata": {},
   "outputs": [],
   "source": [
    "df23_paymenttype = df23_cleaned[(df23_cleaned['payment_type'] == 1) | (df23_cleaned['payment_type'] == 2)]"
   ]
  },
  {
   "cell_type": "code",
   "execution_count": 12,
   "id": "36d68adf",
   "metadata": {},
   "outputs": [
    {
     "data": {
      "text/plain": [
       "payment_type\n",
       "1    9896483\n",
       "2    2083509\n",
       "Name: count, dtype: int64"
      ]
     },
     "execution_count": 12,
     "metadata": {},
     "output_type": "execute_result"
    }
   ],
   "source": [
    "pay_breakdown_23 = df23_paymenttype.payment_type.value_counts()\n",
    "pay_breakdown_23"
   ]
  },
  {
   "cell_type": "markdown",
   "id": "6e45e191",
   "metadata": {},
   "source": [
    ">Make a dataframe out of the breakdown by cash and card"
   ]
  },
  {
   "cell_type": "code",
   "execution_count": 13,
   "id": "bb396931",
   "metadata": {},
   "outputs": [
    {
     "data": {
      "text/html": [
       "<div>\n",
       "<style scoped>\n",
       "    .dataframe tbody tr th:only-of-type {\n",
       "        vertical-align: middle;\n",
       "    }\n",
       "\n",
       "    .dataframe tbody tr th {\n",
       "        vertical-align: top;\n",
       "    }\n",
       "\n",
       "    .dataframe thead th {\n",
       "        text-align: right;\n",
       "    }\n",
       "</style>\n",
       "<table border=\"1\" class=\"dataframe\">\n",
       "  <thead>\n",
       "    <tr style=\"text-align: right;\">\n",
       "      <th></th>\n",
       "      <th>Payment Type</th>\n",
       "      <th>Count</th>\n",
       "      <th>Year</th>\n",
       "    </tr>\n",
       "  </thead>\n",
       "  <tbody>\n",
       "    <tr>\n",
       "      <th>0</th>\n",
       "      <td>Credit Card</td>\n",
       "      <td>9896483</td>\n",
       "      <td>2023</td>\n",
       "    </tr>\n",
       "    <tr>\n",
       "      <th>1</th>\n",
       "      <td>Cash</td>\n",
       "      <td>2083509</td>\n",
       "      <td>2023</td>\n",
       "    </tr>\n",
       "  </tbody>\n",
       "</table>\n",
       "</div>"
      ],
      "text/plain": [
       "  Payment Type    Count  Year\n",
       "0  Credit Card  9896483  2023\n",
       "1         Cash  2083509  2023"
      ]
     },
     "execution_count": 13,
     "metadata": {},
     "output_type": "execute_result"
    }
   ],
   "source": [
    "pay_breakdown_23_df = pd.DataFrame({'Payment Type': pay_breakdown_23.index, 'Count': pay_breakdown_23.values})\n",
    "pay_breakdown_23_df['Payment Type'] = pay_breakdown_23_df['Payment Type'].replace({1: 'Credit Card', 2: 'Cash'})\n",
    "pay_breakdown_23_df['Year'] = 2023\n",
    "pay_breakdown_23_df"
   ]
  },
  {
   "cell_type": "markdown",
   "id": "62be5203",
   "metadata": {},
   "source": [
    "#### Want to calculate median tip percentage by month \n",
    "> <p> But tip isn't documented when payment type is cash, so make a new df only for trips when payment type is credit card (1) to calculate median the riders are tipping when paying with card </p>"
   ]
  },
  {
   "cell_type": "code",
   "execution_count": 14,
   "id": "94900977",
   "metadata": {},
   "outputs": [],
   "source": [
    "df23_credit = df23_cleaned[(df23_cleaned['payment_type'] == 1)]"
   ]
  },
  {
   "cell_type": "markdown",
   "id": "2a2646d5",
   "metadata": {},
   "source": [
    "#### Make df that shows median tip percentage by Month and Year when payment method is Credit Card"
   ]
  },
  {
   "cell_type": "code",
   "execution_count": 15,
   "id": "9bdd50b6",
   "metadata": {},
   "outputs": [
    {
     "data": {
      "text/html": [
       "<div>\n",
       "<style scoped>\n",
       "    .dataframe tbody tr th:only-of-type {\n",
       "        vertical-align: middle;\n",
       "    }\n",
       "\n",
       "    .dataframe tbody tr th {\n",
       "        vertical-align: top;\n",
       "    }\n",
       "\n",
       "    .dataframe thead th {\n",
       "        text-align: right;\n",
       "    }\n",
       "</style>\n",
       "<table border=\"1\" class=\"dataframe\">\n",
       "  <thead>\n",
       "    <tr style=\"text-align: right;\">\n",
       "      <th></th>\n",
       "      <th>year</th>\n",
       "      <th>month</th>\n",
       "      <th>count</th>\n",
       "      <th>median_tip</th>\n",
       "    </tr>\n",
       "  </thead>\n",
       "  <tbody>\n",
       "    <tr>\n",
       "      <th>0</th>\n",
       "      <td>2001</td>\n",
       "      <td>1</td>\n",
       "      <td>3</td>\n",
       "      <td>19.498607</td>\n",
       "    </tr>\n",
       "    <tr>\n",
       "      <th>1</th>\n",
       "      <td>2008</td>\n",
       "      <td>12</td>\n",
       "      <td>4</td>\n",
       "      <td>25.360901</td>\n",
       "    </tr>\n",
       "    <tr>\n",
       "      <th>2</th>\n",
       "      <td>2014</td>\n",
       "      <td>11</td>\n",
       "      <td>1</td>\n",
       "      <td>26.374622</td>\n",
       "    </tr>\n",
       "    <tr>\n",
       "      <th>3</th>\n",
       "      <td>2022</td>\n",
       "      <td>10</td>\n",
       "      <td>3</td>\n",
       "      <td>20.205128</td>\n",
       "    </tr>\n",
       "    <tr>\n",
       "      <th>4</th>\n",
       "      <td>2022</td>\n",
       "      <td>12</td>\n",
       "      <td>20</td>\n",
       "      <td>31.198569</td>\n",
       "    </tr>\n",
       "    <tr>\n",
       "      <th>5</th>\n",
       "      <td>2023</td>\n",
       "      <td>1</td>\n",
       "      <td>2390453</td>\n",
       "      <td>26.134969</td>\n",
       "    </tr>\n",
       "    <tr>\n",
       "      <th>6</th>\n",
       "      <td>2023</td>\n",
       "      <td>2</td>\n",
       "      <td>2289885</td>\n",
       "      <td>26.062378</td>\n",
       "    </tr>\n",
       "    <tr>\n",
       "      <th>7</th>\n",
       "      <td>2023</td>\n",
       "      <td>3</td>\n",
       "      <td>2667597</td>\n",
       "      <td>25.925926</td>\n",
       "    </tr>\n",
       "    <tr>\n",
       "      <th>8</th>\n",
       "      <td>2023</td>\n",
       "      <td>4</td>\n",
       "      <td>2548478</td>\n",
       "      <td>25.882353</td>\n",
       "    </tr>\n",
       "    <tr>\n",
       "      <th>9</th>\n",
       "      <td>2023</td>\n",
       "      <td>5</td>\n",
       "      <td>39</td>\n",
       "      <td>24.878049</td>\n",
       "    </tr>\n",
       "  </tbody>\n",
       "</table>\n",
       "</div>"
      ],
      "text/plain": [
       "   year  month    count  median_tip\n",
       "0  2001      1        3   19.498607\n",
       "1  2008     12        4   25.360901\n",
       "2  2014     11        1   26.374622\n",
       "3  2022     10        3   20.205128\n",
       "4  2022     12       20   31.198569\n",
       "5  2023      1  2390453   26.134969\n",
       "6  2023      2  2289885   26.062378\n",
       "7  2023      3  2667597   25.925926\n",
       "8  2023      4  2548478   25.882353\n",
       "9  2023      5       39   24.878049"
      ]
     },
     "execution_count": 15,
     "metadata": {},
     "output_type": "execute_result"
    }
   ],
   "source": [
    "df23_tip = df23_credit.groupby([df23_credit['tpep_pickup_datetime'].dt.year.rename('year'), df23_credit['tpep_pickup_datetime'].dt.month.rename('month')]).agg(count=('VendorID', 'size'), median_tip=('tip_percent', 'median')).reset_index()\n",
    "df23_tip"
   ]
  },
  {
   "cell_type": "markdown",
   "id": "e4b79cc2",
   "metadata": {},
   "source": [
    "> Removing all dates besides 2023"
   ]
  },
  {
   "cell_type": "code",
   "execution_count": 16,
   "id": "11400862",
   "metadata": {},
   "outputs": [
    {
     "data": {
      "text/html": [
       "<div>\n",
       "<style scoped>\n",
       "    .dataframe tbody tr th:only-of-type {\n",
       "        vertical-align: middle;\n",
       "    }\n",
       "\n",
       "    .dataframe tbody tr th {\n",
       "        vertical-align: top;\n",
       "    }\n",
       "\n",
       "    .dataframe thead th {\n",
       "        text-align: right;\n",
       "    }\n",
       "</style>\n",
       "<table border=\"1\" class=\"dataframe\">\n",
       "  <thead>\n",
       "    <tr style=\"text-align: right;\">\n",
       "      <th></th>\n",
       "      <th>year</th>\n",
       "      <th>month</th>\n",
       "      <th>count</th>\n",
       "      <th>median_tip</th>\n",
       "    </tr>\n",
       "  </thead>\n",
       "  <tbody>\n",
       "    <tr>\n",
       "      <th>5</th>\n",
       "      <td>2023</td>\n",
       "      <td>1</td>\n",
       "      <td>2390453</td>\n",
       "      <td>26.134969</td>\n",
       "    </tr>\n",
       "    <tr>\n",
       "      <th>6</th>\n",
       "      <td>2023</td>\n",
       "      <td>2</td>\n",
       "      <td>2289885</td>\n",
       "      <td>26.062378</td>\n",
       "    </tr>\n",
       "    <tr>\n",
       "      <th>7</th>\n",
       "      <td>2023</td>\n",
       "      <td>3</td>\n",
       "      <td>2667597</td>\n",
       "      <td>25.925926</td>\n",
       "    </tr>\n",
       "    <tr>\n",
       "      <th>8</th>\n",
       "      <td>2023</td>\n",
       "      <td>4</td>\n",
       "      <td>2548478</td>\n",
       "      <td>25.882353</td>\n",
       "    </tr>\n",
       "    <tr>\n",
       "      <th>9</th>\n",
       "      <td>2023</td>\n",
       "      <td>5</td>\n",
       "      <td>39</td>\n",
       "      <td>24.878049</td>\n",
       "    </tr>\n",
       "  </tbody>\n",
       "</table>\n",
       "</div>"
      ],
      "text/plain": [
       "   year  month    count  median_tip\n",
       "5  2023      1  2390453   26.134969\n",
       "6  2023      2  2289885   26.062378\n",
       "7  2023      3  2667597   25.925926\n",
       "8  2023      4  2548478   25.882353\n",
       "9  2023      5       39   24.878049"
      ]
     },
     "execution_count": 16,
     "metadata": {},
     "output_type": "execute_result"
    }
   ],
   "source": [
    "df23_tip_clean = df23_tip[df23_tip['year'] == 2023]\n",
    "df23_tip_clean"
   ]
  },
  {
   "cell_type": "markdown",
   "id": "e53c1e52",
   "metadata": {},
   "source": [
    "# 2022 Data"
   ]
  },
  {
   "cell_type": "code",
   "execution_count": 17,
   "id": "64c305fc",
   "metadata": {},
   "outputs": [],
   "source": [
    "parquet_urls_22 = [\n",
    "    'https://d37ci6vzurychx.cloudfront.net/trip-data/yellow_tripdata_2022-01.parquet',\n",
    "    'https://d37ci6vzurychx.cloudfront.net/trip-data/yellow_tripdata_2022-02.parquet',\n",
    "    'https://d37ci6vzurychx.cloudfront.net/trip-data/yellow_tripdata_2022-03.parquet',\n",
    "    'https://d37ci6vzurychx.cloudfront.net/trip-data/yellow_tripdata_2022-04.parquet',\n",
    "    'https://d37ci6vzurychx.cloudfront.net/trip-data/yellow_tripdata_2022-05.parquet',\n",
    "    'https://d37ci6vzurychx.cloudfront.net/trip-data/yellow_tripdata_2022-06.parquet',\n",
    "    'https://d37ci6vzurychx.cloudfront.net/trip-data/yellow_tripdata_2022-07.parquet',\n",
    "    'https://d37ci6vzurychx.cloudfront.net/trip-data/yellow_tripdata_2022-08.parquet',\n",
    "    'https://d37ci6vzurychx.cloudfront.net/trip-data/yellow_tripdata_2022-09.parquet',\n",
    "    'https://d37ci6vzurychx.cloudfront.net/trip-data/yellow_tripdata_2022-10.parquet',\n",
    "    'https://d37ci6vzurychx.cloudfront.net/trip-data/yellow_tripdata_2022-11.parquet',\n",
    "    'https://d37ci6vzurychx.cloudfront.net/trip-data/yellow_tripdata_2022-12.parquet'\n",
    "]"
   ]
  },
  {
   "cell_type": "markdown",
   "id": "317858e2",
   "metadata": {},
   "source": [
    "#### Put all links for 2022 data into single df"
   ]
  },
  {
   "cell_type": "code",
   "execution_count": 18,
   "id": "bc521032",
   "metadata": {},
   "outputs": [],
   "source": [
    "all_files = glob.glob('parquet_urls_22')\n",
    "dfs_22 = []\n",
    "for url in parquet_urls_22:\n",
    "    df = pd.read_parquet(url)\n",
    "    dfs_22.append(df)\n",
    "\n",
    "df22 = pd.concat(dfs_22, ignore_index=True)"
   ]
  },
  {
   "cell_type": "markdown",
   "id": "742e957c",
   "metadata": {},
   "source": [
    "#### Add column for percent of total fare the taxi riders have tipped"
   ]
  },
  {
   "cell_type": "code",
   "execution_count": 19,
   "id": "a72d1f2c",
   "metadata": {},
   "outputs": [],
   "source": [
    "df22['tip_percent'] = (df22['tip_amount'] / df22['fare_amount']) * 100"
   ]
  },
  {
   "cell_type": "markdown",
   "id": "ffee33d9",
   "metadata": {},
   "source": [
    "#### To clean the data, make df with only rides that have fares and distance over 0"
   ]
  },
  {
   "cell_type": "code",
   "execution_count": 20,
   "id": "f0be3f33",
   "metadata": {},
   "outputs": [],
   "source": [
    "df22_cleaned = df22[(df22['total_amount'] > 0) & (df22['trip_distance'] > 0)]"
   ]
  },
  {
   "cell_type": "markdown",
   "id": "ae5f1beb",
   "metadata": {},
   "source": [
    "### Total Ride Count by Month and Year\n",
    "> This includes all payment types, and cleaned to only include 2022 data"
   ]
  },
  {
   "cell_type": "code",
   "execution_count": 21,
   "id": "9d68aaf1",
   "metadata": {},
   "outputs": [
    {
     "data": {
      "text/html": [
       "<div>\n",
       "<style scoped>\n",
       "    .dataframe tbody tr th:only-of-type {\n",
       "        vertical-align: middle;\n",
       "    }\n",
       "\n",
       "    .dataframe tbody tr th {\n",
       "        vertical-align: top;\n",
       "    }\n",
       "\n",
       "    .dataframe thead th {\n",
       "        text-align: right;\n",
       "    }\n",
       "</style>\n",
       "<table border=\"1\" class=\"dataframe\">\n",
       "  <thead>\n",
       "    <tr style=\"text-align: right;\">\n",
       "      <th></th>\n",
       "      <th>year</th>\n",
       "      <th>month</th>\n",
       "      <th>count</th>\n",
       "    </tr>\n",
       "  </thead>\n",
       "  <tbody>\n",
       "    <tr>\n",
       "      <th>8</th>\n",
       "      <td>2022</td>\n",
       "      <td>1</td>\n",
       "      <td>2423144</td>\n",
       "    </tr>\n",
       "    <tr>\n",
       "      <th>9</th>\n",
       "      <td>2022</td>\n",
       "      <td>2</td>\n",
       "      <td>2933259</td>\n",
       "    </tr>\n",
       "    <tr>\n",
       "      <th>10</th>\n",
       "      <td>2022</td>\n",
       "      <td>3</td>\n",
       "      <td>3569044</td>\n",
       "    </tr>\n",
       "    <tr>\n",
       "      <th>11</th>\n",
       "      <td>2022</td>\n",
       "      <td>4</td>\n",
       "      <td>3542145</td>\n",
       "    </tr>\n",
       "    <tr>\n",
       "      <th>12</th>\n",
       "      <td>2022</td>\n",
       "      <td>5</td>\n",
       "      <td>3524118</td>\n",
       "    </tr>\n",
       "    <tr>\n",
       "      <th>13</th>\n",
       "      <td>2022</td>\n",
       "      <td>6</td>\n",
       "      <td>3486393</td>\n",
       "    </tr>\n",
       "    <tr>\n",
       "      <th>14</th>\n",
       "      <td>2022</td>\n",
       "      <td>7</td>\n",
       "      <td>3110137</td>\n",
       "    </tr>\n",
       "    <tr>\n",
       "      <th>15</th>\n",
       "      <td>2022</td>\n",
       "      <td>8</td>\n",
       "      <td>3084151</td>\n",
       "    </tr>\n",
       "    <tr>\n",
       "      <th>16</th>\n",
       "      <td>2022</td>\n",
       "      <td>9</td>\n",
       "      <td>3113320</td>\n",
       "    </tr>\n",
       "    <tr>\n",
       "      <th>17</th>\n",
       "      <td>2022</td>\n",
       "      <td>10</td>\n",
       "      <td>3590655</td>\n",
       "    </tr>\n",
       "    <tr>\n",
       "      <th>18</th>\n",
       "      <td>2022</td>\n",
       "      <td>11</td>\n",
       "      <td>3171445</td>\n",
       "    </tr>\n",
       "    <tr>\n",
       "      <th>19</th>\n",
       "      <td>2022</td>\n",
       "      <td>12</td>\n",
       "      <td>3313125</td>\n",
       "    </tr>\n",
       "  </tbody>\n",
       "</table>\n",
       "</div>"
      ],
      "text/plain": [
       "    year  month    count\n",
       "8   2022      1  2423144\n",
       "9   2022      2  2933259\n",
       "10  2022      3  3569044\n",
       "11  2022      4  3542145\n",
       "12  2022      5  3524118\n",
       "13  2022      6  3486393\n",
       "14  2022      7  3110137\n",
       "15  2022      8  3084151\n",
       "16  2022      9  3113320\n",
       "17  2022     10  3590655\n",
       "18  2022     11  3171445\n",
       "19  2022     12  3313125"
      ]
     },
     "execution_count": 21,
     "metadata": {},
     "output_type": "execute_result"
    }
   ],
   "source": [
    "df22_count = df22_cleaned.groupby([df22_cleaned['tpep_pickup_datetime'].dt.year.rename('year'), df22_cleaned['tpep_pickup_datetime'].dt.month.rename('month')]).agg(count=('VendorID', 'size')).reset_index()\n",
    "df22_count_clean = df22_count[df22_count['year'] == 2022]\n",
    "df22_count_clean"
   ]
  },
  {
   "cell_type": "markdown",
   "id": "94643e03",
   "metadata": {},
   "source": [
    "### Credit Card vs. Cash Payments\n",
    "> <p> Filtering out other payment types that aren't card or cash and making it a df </p>"
   ]
  },
  {
   "cell_type": "code",
   "execution_count": 22,
   "id": "46645064",
   "metadata": {},
   "outputs": [],
   "source": [
    "df22_paymenttype = df22_cleaned[(df22_cleaned['payment_type'] == 1) | (df22_cleaned['payment_type'] == 2)]"
   ]
  },
  {
   "cell_type": "code",
   "execution_count": 23,
   "id": "07decd14",
   "metadata": {},
   "outputs": [
    {
     "data": {
      "text/html": [
       "<div>\n",
       "<style scoped>\n",
       "    .dataframe tbody tr th:only-of-type {\n",
       "        vertical-align: middle;\n",
       "    }\n",
       "\n",
       "    .dataframe tbody tr th {\n",
       "        vertical-align: top;\n",
       "    }\n",
       "\n",
       "    .dataframe thead th {\n",
       "        text-align: right;\n",
       "    }\n",
       "</style>\n",
       "<table border=\"1\" class=\"dataframe\">\n",
       "  <thead>\n",
       "    <tr style=\"text-align: right;\">\n",
       "      <th></th>\n",
       "      <th>Payment Type</th>\n",
       "      <th>Count</th>\n",
       "      <th>Year</th>\n",
       "    </tr>\n",
       "  </thead>\n",
       "  <tbody>\n",
       "    <tr>\n",
       "      <th>0</th>\n",
       "      <td>Credit Card</td>\n",
       "      <td>29796585</td>\n",
       "      <td>2022</td>\n",
       "    </tr>\n",
       "    <tr>\n",
       "      <th>1</th>\n",
       "      <td>Cash</td>\n",
       "      <td>7569962</td>\n",
       "      <td>2022</td>\n",
       "    </tr>\n",
       "  </tbody>\n",
       "</table>\n",
       "</div>"
      ],
      "text/plain": [
       "  Payment Type     Count  Year\n",
       "0  Credit Card  29796585  2022\n",
       "1         Cash   7569962  2022"
      ]
     },
     "execution_count": 23,
     "metadata": {},
     "output_type": "execute_result"
    }
   ],
   "source": [
    "pay_breakdown_22 = df22_paymenttype.payment_type.value_counts()\n",
    "pay_breakdown_22_df = pd.DataFrame({'Payment Type': pay_breakdown_22.index, 'Count': pay_breakdown_22.values})\n",
    "pay_breakdown_22_df['Payment Type'] = pay_breakdown_22_df['Payment Type'].replace({1: 'Credit Card', 2: 'Cash'})\n",
    "pay_breakdown_22_df['Year'] = 2022\n",
    "pay_breakdown_22_df"
   ]
  },
  {
   "cell_type": "markdown",
   "id": "b08325f8",
   "metadata": {},
   "source": [
    "### Median tip percentage by month\n",
    "> only for trips where payment method is credit card (1)"
   ]
  },
  {
   "cell_type": "code",
   "execution_count": 24,
   "id": "ae69b652",
   "metadata": {
    "scrolled": true
   },
   "outputs": [
    {
     "data": {
      "text/html": [
       "<div>\n",
       "<style scoped>\n",
       "    .dataframe tbody tr th:only-of-type {\n",
       "        vertical-align: middle;\n",
       "    }\n",
       "\n",
       "    .dataframe tbody tr th {\n",
       "        vertical-align: top;\n",
       "    }\n",
       "\n",
       "    .dataframe thead th {\n",
       "        text-align: right;\n",
       "    }\n",
       "</style>\n",
       "<table border=\"1\" class=\"dataframe\">\n",
       "  <thead>\n",
       "    <tr style=\"text-align: right;\">\n",
       "      <th></th>\n",
       "      <th>year</th>\n",
       "      <th>month</th>\n",
       "      <th>count</th>\n",
       "      <th>median_tip</th>\n",
       "    </tr>\n",
       "  </thead>\n",
       "  <tbody>\n",
       "    <tr>\n",
       "      <th>6</th>\n",
       "      <td>2022</td>\n",
       "      <td>1</td>\n",
       "      <td>1858410</td>\n",
       "      <td>27.209302</td>\n",
       "    </tr>\n",
       "    <tr>\n",
       "      <th>7</th>\n",
       "      <td>2022</td>\n",
       "      <td>2</td>\n",
       "      <td>2278343</td>\n",
       "      <td>26.833333</td>\n",
       "    </tr>\n",
       "    <tr>\n",
       "      <th>8</th>\n",
       "      <td>2022</td>\n",
       "      <td>3</td>\n",
       "      <td>2762264</td>\n",
       "      <td>26.666667</td>\n",
       "    </tr>\n",
       "    <tr>\n",
       "      <th>9</th>\n",
       "      <td>2022</td>\n",
       "      <td>4</td>\n",
       "      <td>2710326</td>\n",
       "      <td>26.521739</td>\n",
       "    </tr>\n",
       "    <tr>\n",
       "      <th>10</th>\n",
       "      <td>2022</td>\n",
       "      <td>5</td>\n",
       "      <td>2694724</td>\n",
       "      <td>26.285714</td>\n",
       "    </tr>\n",
       "    <tr>\n",
       "      <th>11</th>\n",
       "      <td>2022</td>\n",
       "      <td>6</td>\n",
       "      <td>2668172</td>\n",
       "      <td>26.285714</td>\n",
       "    </tr>\n",
       "    <tr>\n",
       "      <th>12</th>\n",
       "      <td>2022</td>\n",
       "      <td>7</td>\n",
       "      <td>2342891</td>\n",
       "      <td>26.354839</td>\n",
       "    </tr>\n",
       "    <tr>\n",
       "      <th>13</th>\n",
       "      <td>2022</td>\n",
       "      <td>8</td>\n",
       "      <td>2328896</td>\n",
       "      <td>26.370370</td>\n",
       "    </tr>\n",
       "    <tr>\n",
       "      <th>14</th>\n",
       "      <td>2022</td>\n",
       "      <td>9</td>\n",
       "      <td>2389709</td>\n",
       "      <td>26.080000</td>\n",
       "    </tr>\n",
       "    <tr>\n",
       "      <th>15</th>\n",
       "      <td>2022</td>\n",
       "      <td>10</td>\n",
       "      <td>2777541</td>\n",
       "      <td>26.156250</td>\n",
       "    </tr>\n",
       "    <tr>\n",
       "      <th>16</th>\n",
       "      <td>2022</td>\n",
       "      <td>11</td>\n",
       "      <td>2458517</td>\n",
       "      <td>26.285714</td>\n",
       "    </tr>\n",
       "    <tr>\n",
       "      <th>17</th>\n",
       "      <td>2022</td>\n",
       "      <td>12</td>\n",
       "      <td>2526615</td>\n",
       "      <td>26.134969</td>\n",
       "    </tr>\n",
       "  </tbody>\n",
       "</table>\n",
       "</div>"
      ],
      "text/plain": [
       "    year  month    count  median_tip\n",
       "6   2022      1  1858410   27.209302\n",
       "7   2022      2  2278343   26.833333\n",
       "8   2022      3  2762264   26.666667\n",
       "9   2022      4  2710326   26.521739\n",
       "10  2022      5  2694724   26.285714\n",
       "11  2022      6  2668172   26.285714\n",
       "12  2022      7  2342891   26.354839\n",
       "13  2022      8  2328896   26.370370\n",
       "14  2022      9  2389709   26.080000\n",
       "15  2022     10  2777541   26.156250\n",
       "16  2022     11  2458517   26.285714\n",
       "17  2022     12  2526615   26.134969"
      ]
     },
     "execution_count": 24,
     "metadata": {},
     "output_type": "execute_result"
    }
   ],
   "source": [
    "df22_credit = df22_cleaned[(df22_cleaned['payment_type'] == 1)]\n",
    "df22_tip = df22_credit.groupby([df22_credit['tpep_pickup_datetime'].dt.year.rename('year'), df22_credit['tpep_pickup_datetime'].dt.month.rename('month')]).agg(count=('VendorID', 'size'), median_tip=('tip_percent', 'median')).reset_index()\n",
    "df22_tip_clean = df22_tip[df22_tip['year'] == 2022]\n",
    "df22_tip_clean"
   ]
  },
  {
   "cell_type": "markdown",
   "id": "9d6f4833",
   "metadata": {},
   "source": [
    "# 2021 Data"
   ]
  },
  {
   "cell_type": "code",
   "execution_count": 25,
   "id": "d49323c2",
   "metadata": {},
   "outputs": [],
   "source": [
    "parquet_urls_21 = [\n",
    "    'https://d37ci6vzurychx.cloudfront.net/trip-data/yellow_tripdata_2021-01.parquet',\n",
    "    'https://d37ci6vzurychx.cloudfront.net/trip-data/yellow_tripdata_2021-02.parquet',\n",
    "    'https://d37ci6vzurychx.cloudfront.net/trip-data/yellow_tripdata_2021-03.parquet',\n",
    "    'https://d37ci6vzurychx.cloudfront.net/trip-data/yellow_tripdata_2021-04.parquet',\n",
    "    'https://d37ci6vzurychx.cloudfront.net/trip-data/yellow_tripdata_2021-05.parquet',\n",
    "    'https://d37ci6vzurychx.cloudfront.net/trip-data/yellow_tripdata_2021-06.parquet',\n",
    "    'https://d37ci6vzurychx.cloudfront.net/trip-data/yellow_tripdata_2021-07.parquet',\n",
    "    'https://d37ci6vzurychx.cloudfront.net/trip-data/yellow_tripdata_2021-08.parquet',\n",
    "    'https://d37ci6vzurychx.cloudfront.net/trip-data/yellow_tripdata_2021-09.parquet',\n",
    "    'https://d37ci6vzurychx.cloudfront.net/trip-data/yellow_tripdata_2021-10.parquet',\n",
    "    'https://d37ci6vzurychx.cloudfront.net/trip-data/yellow_tripdata_2021-11.parquet',\n",
    "    'https://d37ci6vzurychx.cloudfront.net/trip-data/yellow_tripdata_2021-12.parquet'\n",
    "]"
   ]
  },
  {
   "cell_type": "code",
   "execution_count": 26,
   "id": "e9f813d9",
   "metadata": {},
   "outputs": [],
   "source": [
    "all_files = glob.glob('parquet_urls_21')\n",
    "dfs_21 = []\n",
    "for url in parquet_urls_21:\n",
    "    df = pd.read_parquet(url)\n",
    "    dfs_21.append(df)\n",
    "df21 = pd.concat(dfs_21, ignore_index=True)"
   ]
  },
  {
   "cell_type": "markdown",
   "id": "ea67ab9a",
   "metadata": {},
   "source": [
    "#### Add column for percent of total fare the taxi riders have tipped"
   ]
  },
  {
   "cell_type": "code",
   "execution_count": 27,
   "id": "743ddf2d",
   "metadata": {},
   "outputs": [],
   "source": [
    "df21['tip_percent'] = (df21['tip_amount'] / df21['fare_amount']) * 100"
   ]
  },
  {
   "cell_type": "markdown",
   "id": "1cabde71",
   "metadata": {},
   "source": [
    "#### To clean the data, make df with only rides that have fares and distance over 0"
   ]
  },
  {
   "cell_type": "code",
   "execution_count": 28,
   "id": "5a410198",
   "metadata": {},
   "outputs": [],
   "source": [
    "df21_cleaned = df21[(df21['total_amount'] > 0) & (df21['trip_distance'] > 0)]"
   ]
  },
  {
   "cell_type": "markdown",
   "id": "4e67af0f",
   "metadata": {},
   "source": [
    "### Total Ride Count by Month and Year\n",
    "> This includes all payment types, and cleaned to only include 2021 data"
   ]
  },
  {
   "cell_type": "code",
   "execution_count": 29,
   "id": "7e62ad87",
   "metadata": {},
   "outputs": [
    {
     "data": {
      "text/html": [
       "<div>\n",
       "<style scoped>\n",
       "    .dataframe tbody tr th:only-of-type {\n",
       "        vertical-align: middle;\n",
       "    }\n",
       "\n",
       "    .dataframe tbody tr th {\n",
       "        vertical-align: top;\n",
       "    }\n",
       "\n",
       "    .dataframe thead th {\n",
       "        text-align: right;\n",
       "    }\n",
       "</style>\n",
       "<table border=\"1\" class=\"dataframe\">\n",
       "  <thead>\n",
       "    <tr style=\"text-align: right;\">\n",
       "      <th></th>\n",
       "      <th>year</th>\n",
       "      <th>month</th>\n",
       "      <th>count</th>\n",
       "    </tr>\n",
       "  </thead>\n",
       "  <tbody>\n",
       "    <tr>\n",
       "      <th>7</th>\n",
       "      <td>2021</td>\n",
       "      <td>1</td>\n",
       "      <td>1343633</td>\n",
       "    </tr>\n",
       "    <tr>\n",
       "      <th>8</th>\n",
       "      <td>2021</td>\n",
       "      <td>2</td>\n",
       "      <td>1346651</td>\n",
       "    </tr>\n",
       "    <tr>\n",
       "      <th>9</th>\n",
       "      <td>2021</td>\n",
       "      <td>3</td>\n",
       "      <td>1892358</td>\n",
       "    </tr>\n",
       "    <tr>\n",
       "      <th>10</th>\n",
       "      <td>2021</td>\n",
       "      <td>4</td>\n",
       "      <td>2130852</td>\n",
       "    </tr>\n",
       "    <tr>\n",
       "      <th>11</th>\n",
       "      <td>2021</td>\n",
       "      <td>5</td>\n",
       "      <td>2464340</td>\n",
       "    </tr>\n",
       "    <tr>\n",
       "      <th>12</th>\n",
       "      <td>2021</td>\n",
       "      <td>6</td>\n",
       "      <td>2788830</td>\n",
       "    </tr>\n",
       "    <tr>\n",
       "      <th>13</th>\n",
       "      <td>2021</td>\n",
       "      <td>7</td>\n",
       "      <td>2773242</td>\n",
       "    </tr>\n",
       "    <tr>\n",
       "      <th>14</th>\n",
       "      <td>2021</td>\n",
       "      <td>8</td>\n",
       "      <td>2739741</td>\n",
       "    </tr>\n",
       "    <tr>\n",
       "      <th>15</th>\n",
       "      <td>2021</td>\n",
       "      <td>9</td>\n",
       "      <td>2897170</td>\n",
       "    </tr>\n",
       "    <tr>\n",
       "      <th>16</th>\n",
       "      <td>2021</td>\n",
       "      <td>10</td>\n",
       "      <td>3408413</td>\n",
       "    </tr>\n",
       "    <tr>\n",
       "      <th>17</th>\n",
       "      <td>2021</td>\n",
       "      <td>11</td>\n",
       "      <td>3424458</td>\n",
       "    </tr>\n",
       "    <tr>\n",
       "      <th>18</th>\n",
       "      <td>2021</td>\n",
       "      <td>12</td>\n",
       "      <td>3163124</td>\n",
       "    </tr>\n",
       "  </tbody>\n",
       "</table>\n",
       "</div>"
      ],
      "text/plain": [
       "    year  month    count\n",
       "7   2021      1  1343633\n",
       "8   2021      2  1346651\n",
       "9   2021      3  1892358\n",
       "10  2021      4  2130852\n",
       "11  2021      5  2464340\n",
       "12  2021      6  2788830\n",
       "13  2021      7  2773242\n",
       "14  2021      8  2739741\n",
       "15  2021      9  2897170\n",
       "16  2021     10  3408413\n",
       "17  2021     11  3424458\n",
       "18  2021     12  3163124"
      ]
     },
     "execution_count": 29,
     "metadata": {},
     "output_type": "execute_result"
    }
   ],
   "source": [
    "df21_count = df21_cleaned.groupby([df21_cleaned['tpep_pickup_datetime'].dt.year.rename('year'), df21_cleaned['tpep_pickup_datetime'].dt.month.rename('month')]).agg(count=('VendorID', 'size')).reset_index()\n",
    "df21_count_clean = df21_count[df21_count['year'] == 2021]\n",
    "df21_count_clean"
   ]
  },
  {
   "cell_type": "markdown",
   "id": "e0edb596",
   "metadata": {},
   "source": [
    "### Credit Card vs. Cash Payments\n",
    "> <p> Filtering out other payment types that aren't card or cash and making it a df </p>"
   ]
  },
  {
   "cell_type": "code",
   "execution_count": 30,
   "id": "7f3277e7",
   "metadata": {},
   "outputs": [],
   "source": [
    "df21_paymenttype = df21_cleaned[(df21_cleaned['payment_type'] == 1) | (df21_cleaned['payment_type'] == 2)]"
   ]
  },
  {
   "cell_type": "code",
   "execution_count": 31,
   "id": "957305c5",
   "metadata": {},
   "outputs": [
    {
     "data": {
      "text/html": [
       "<div>\n",
       "<style scoped>\n",
       "    .dataframe tbody tr th:only-of-type {\n",
       "        vertical-align: middle;\n",
       "    }\n",
       "\n",
       "    .dataframe tbody tr th {\n",
       "        vertical-align: top;\n",
       "    }\n",
       "\n",
       "    .dataframe thead th {\n",
       "        text-align: right;\n",
       "    }\n",
       "</style>\n",
       "<table border=\"1\" class=\"dataframe\">\n",
       "  <thead>\n",
       "    <tr style=\"text-align: right;\">\n",
       "      <th></th>\n",
       "      <th>Payment Type</th>\n",
       "      <th>Count</th>\n",
       "      <th>Year</th>\n",
       "    </tr>\n",
       "  </thead>\n",
       "  <tbody>\n",
       "    <tr>\n",
       "      <th>0</th>\n",
       "      <td>Credit Card</td>\n",
       "      <td>22245974</td>\n",
       "      <td>2021</td>\n",
       "    </tr>\n",
       "    <tr>\n",
       "      <th>1</th>\n",
       "      <td>Cash</td>\n",
       "      <td>6536472</td>\n",
       "      <td>2021</td>\n",
       "    </tr>\n",
       "  </tbody>\n",
       "</table>\n",
       "</div>"
      ],
      "text/plain": [
       "  Payment Type     Count  Year\n",
       "0  Credit Card  22245974  2021\n",
       "1         Cash   6536472  2021"
      ]
     },
     "execution_count": 31,
     "metadata": {},
     "output_type": "execute_result"
    }
   ],
   "source": [
    "pay_breakdown_21 = df21_paymenttype.payment_type.value_counts()\n",
    "pay_breakdown_21_df = pd.DataFrame({'Payment Type': pay_breakdown_21.index, 'Count': pay_breakdown_21.values})\n",
    "pay_breakdown_21_df['Payment Type'] = pay_breakdown_21_df['Payment Type'].replace({1: 'Credit Card', 2: 'Cash'})\n",
    "pay_breakdown_21_df['Year'] = 2021\n",
    "pay_breakdown_21_df"
   ]
  },
  {
   "cell_type": "markdown",
   "id": "bce03b75",
   "metadata": {},
   "source": [
    "### Median tip percentage by month\n",
    "> only for trips where payment method is credit card (1)"
   ]
  },
  {
   "cell_type": "code",
   "execution_count": 32,
   "id": "12ca8be8",
   "metadata": {
    "scrolled": true
   },
   "outputs": [
    {
     "data": {
      "text/html": [
       "<div>\n",
       "<style scoped>\n",
       "    .dataframe tbody tr th:only-of-type {\n",
       "        vertical-align: middle;\n",
       "    }\n",
       "\n",
       "    .dataframe tbody tr th {\n",
       "        vertical-align: top;\n",
       "    }\n",
       "\n",
       "    .dataframe thead th {\n",
       "        text-align: right;\n",
       "    }\n",
       "</style>\n",
       "<table border=\"1\" class=\"dataframe\">\n",
       "  <thead>\n",
       "    <tr style=\"text-align: right;\">\n",
       "      <th></th>\n",
       "      <th>year</th>\n",
       "      <th>month</th>\n",
       "      <th>count</th>\n",
       "      <th>median_tip</th>\n",
       "    </tr>\n",
       "  </thead>\n",
       "  <tbody>\n",
       "    <tr>\n",
       "      <th>6</th>\n",
       "      <td>2021</td>\n",
       "      <td>1</td>\n",
       "      <td>921461</td>\n",
       "      <td>27.600000</td>\n",
       "    </tr>\n",
       "    <tr>\n",
       "      <th>7</th>\n",
       "      <td>2021</td>\n",
       "      <td>2</td>\n",
       "      <td>938264</td>\n",
       "      <td>27.333333</td>\n",
       "    </tr>\n",
       "    <tr>\n",
       "      <th>8</th>\n",
       "      <td>2021</td>\n",
       "      <td>3</td>\n",
       "      <td>1331336</td>\n",
       "      <td>27.333333</td>\n",
       "    </tr>\n",
       "    <tr>\n",
       "      <th>9</th>\n",
       "      <td>2021</td>\n",
       "      <td>4</td>\n",
       "      <td>1531027</td>\n",
       "      <td>27.166667</td>\n",
       "    </tr>\n",
       "    <tr>\n",
       "      <th>10</th>\n",
       "      <td>2021</td>\n",
       "      <td>5</td>\n",
       "      <td>1807630</td>\n",
       "      <td>26.947368</td>\n",
       "    </tr>\n",
       "    <tr>\n",
       "      <th>11</th>\n",
       "      <td>2021</td>\n",
       "      <td>6</td>\n",
       "      <td>2058432</td>\n",
       "      <td>26.677966</td>\n",
       "    </tr>\n",
       "    <tr>\n",
       "      <th>12</th>\n",
       "      <td>2021</td>\n",
       "      <td>7</td>\n",
       "      <td>2007970</td>\n",
       "      <td>26.842105</td>\n",
       "    </tr>\n",
       "    <tr>\n",
       "      <th>13</th>\n",
       "      <td>2021</td>\n",
       "      <td>8</td>\n",
       "      <td>1984739</td>\n",
       "      <td>26.793103</td>\n",
       "    </tr>\n",
       "    <tr>\n",
       "      <th>14</th>\n",
       "      <td>2021</td>\n",
       "      <td>9</td>\n",
       "      <td>2145458</td>\n",
       "      <td>26.500000</td>\n",
       "    </tr>\n",
       "    <tr>\n",
       "      <th>15</th>\n",
       "      <td>2021</td>\n",
       "      <td>10</td>\n",
       "      <td>2585226</td>\n",
       "      <td>26.500000</td>\n",
       "    </tr>\n",
       "    <tr>\n",
       "      <th>16</th>\n",
       "      <td>2021</td>\n",
       "      <td>11</td>\n",
       "      <td>2591684</td>\n",
       "      <td>26.571429</td>\n",
       "    </tr>\n",
       "    <tr>\n",
       "      <th>17</th>\n",
       "      <td>2021</td>\n",
       "      <td>12</td>\n",
       "      <td>2342632</td>\n",
       "      <td>26.640000</td>\n",
       "    </tr>\n",
       "  </tbody>\n",
       "</table>\n",
       "</div>"
      ],
      "text/plain": [
       "    year  month    count  median_tip\n",
       "6   2021      1   921461   27.600000\n",
       "7   2021      2   938264   27.333333\n",
       "8   2021      3  1331336   27.333333\n",
       "9   2021      4  1531027   27.166667\n",
       "10  2021      5  1807630   26.947368\n",
       "11  2021      6  2058432   26.677966\n",
       "12  2021      7  2007970   26.842105\n",
       "13  2021      8  1984739   26.793103\n",
       "14  2021      9  2145458   26.500000\n",
       "15  2021     10  2585226   26.500000\n",
       "16  2021     11  2591684   26.571429\n",
       "17  2021     12  2342632   26.640000"
      ]
     },
     "execution_count": 32,
     "metadata": {},
     "output_type": "execute_result"
    }
   ],
   "source": [
    "df21_credit = df21_cleaned[(df21_cleaned['payment_type'] == 1)]\n",
    "df21_tip = df21_credit.groupby([df21_credit['tpep_pickup_datetime'].dt.year.rename('year'), df21_credit['tpep_pickup_datetime'].dt.month.rename('month')]).agg(count=('VendorID', 'size'), median_tip=('tip_percent', 'median')).reset_index()\n",
    "df21_tip_clean = df21_tip[df21_tip['year'] == 2021]\n",
    "df21_tip_clean"
   ]
  },
  {
   "cell_type": "markdown",
   "id": "7409d2ba",
   "metadata": {},
   "source": [
    "# 2020 Data"
   ]
  },
  {
   "cell_type": "code",
   "execution_count": 33,
   "id": "97800a34",
   "metadata": {},
   "outputs": [],
   "source": [
    "parquet_urls_20 = [\n",
    "    'https://d37ci6vzurychx.cloudfront.net/trip-data/yellow_tripdata_2020-01.parquet',\n",
    "    'https://d37ci6vzurychx.cloudfront.net/trip-data/yellow_tripdata_2020-02.parquet',\n",
    "    'https://d37ci6vzurychx.cloudfront.net/trip-data/yellow_tripdata_2020-03.parquet',\n",
    "    'https://d37ci6vzurychx.cloudfront.net/trip-data/yellow_tripdata_2020-04.parquet',\n",
    "    'https://d37ci6vzurychx.cloudfront.net/trip-data/yellow_tripdata_2020-05.parquet',\n",
    "    'https://d37ci6vzurychx.cloudfront.net/trip-data/yellow_tripdata_2020-06.parquet',\n",
    "    'https://d37ci6vzurychx.cloudfront.net/trip-data/yellow_tripdata_2020-07.parquet',\n",
    "    'https://d37ci6vzurychx.cloudfront.net/trip-data/yellow_tripdata_2020-08.parquet',\n",
    "    'https://d37ci6vzurychx.cloudfront.net/trip-data/yellow_tripdata_2020-09.parquet',\n",
    "    'https://d37ci6vzurychx.cloudfront.net/trip-data/yellow_tripdata_2020-10.parquet',\n",
    "    'https://d37ci6vzurychx.cloudfront.net/trip-data/yellow_tripdata_2020-11.parquet',\n",
    "    'https://d37ci6vzurychx.cloudfront.net/trip-data/yellow_tripdata_2020-12.parquet'\n",
    "]"
   ]
  },
  {
   "cell_type": "code",
   "execution_count": 34,
   "id": "6af7c7e0",
   "metadata": {},
   "outputs": [],
   "source": [
    "all_files = glob.glob('parquet_urls_20')\n",
    "dfs_20 = []\n",
    "for url in parquet_urls_20:\n",
    "    df = pd.read_parquet(url)\n",
    "    dfs_20.append(df)\n",
    "df20 = pd.concat(dfs_20, ignore_index=True)"
   ]
  },
  {
   "cell_type": "markdown",
   "id": "8397f3d9",
   "metadata": {},
   "source": [
    "#### Add column for percent of total fare the taxi riders have tipped"
   ]
  },
  {
   "cell_type": "code",
   "execution_count": 35,
   "id": "64de09e7",
   "metadata": {},
   "outputs": [],
   "source": [
    "df20['tip_percent'] = (df20['tip_amount'] / df20['fare_amount']) * 100"
   ]
  },
  {
   "cell_type": "markdown",
   "id": "83b9553b",
   "metadata": {},
   "source": [
    "#### To clean the data, make df with only rides that have fares and distance over 0"
   ]
  },
  {
   "cell_type": "code",
   "execution_count": 36,
   "id": "4e589656",
   "metadata": {},
   "outputs": [],
   "source": [
    "df20_cleaned = df20[(df20['total_amount'] > 0) & (df20['trip_distance'] > 0)]"
   ]
  },
  {
   "cell_type": "markdown",
   "id": "cb4fbd6a",
   "metadata": {},
   "source": [
    "### Total Ride Count by Month and Year\n",
    "> This includes all payment types, and cleaned to only include 2020 data"
   ]
  },
  {
   "cell_type": "code",
   "execution_count": 37,
   "id": "99c941f6",
   "metadata": {},
   "outputs": [
    {
     "data": {
      "text/html": [
       "<div>\n",
       "<style scoped>\n",
       "    .dataframe tbody tr th:only-of-type {\n",
       "        vertical-align: middle;\n",
       "    }\n",
       "\n",
       "    .dataframe tbody tr th {\n",
       "        vertical-align: top;\n",
       "    }\n",
       "\n",
       "    .dataframe thead th {\n",
       "        text-align: right;\n",
       "    }\n",
       "</style>\n",
       "<table border=\"1\" class=\"dataframe\">\n",
       "  <thead>\n",
       "    <tr style=\"text-align: right;\">\n",
       "      <th></th>\n",
       "      <th>year</th>\n",
       "      <th>month</th>\n",
       "      <th>count</th>\n",
       "    </tr>\n",
       "  </thead>\n",
       "  <tbody>\n",
       "    <tr>\n",
       "      <th>3</th>\n",
       "      <td>2020</td>\n",
       "      <td>1</td>\n",
       "      <td>6317110</td>\n",
       "    </tr>\n",
       "    <tr>\n",
       "      <th>4</th>\n",
       "      <td>2020</td>\n",
       "      <td>2</td>\n",
       "      <td>6220581</td>\n",
       "    </tr>\n",
       "    <tr>\n",
       "      <th>5</th>\n",
       "      <td>2020</td>\n",
       "      <td>3</td>\n",
       "      <td>2965620</td>\n",
       "    </tr>\n",
       "    <tr>\n",
       "      <th>6</th>\n",
       "      <td>2020</td>\n",
       "      <td>4</td>\n",
       "      <td>230531</td>\n",
       "    </tr>\n",
       "    <tr>\n",
       "      <th>7</th>\n",
       "      <td>2020</td>\n",
       "      <td>5</td>\n",
       "      <td>336835</td>\n",
       "    </tr>\n",
       "    <tr>\n",
       "      <th>8</th>\n",
       "      <td>2020</td>\n",
       "      <td>6</td>\n",
       "      <td>530115</td>\n",
       "    </tr>\n",
       "    <tr>\n",
       "      <th>9</th>\n",
       "      <td>2020</td>\n",
       "      <td>7</td>\n",
       "      <td>772188</td>\n",
       "    </tr>\n",
       "    <tr>\n",
       "      <th>10</th>\n",
       "      <td>2020</td>\n",
       "      <td>8</td>\n",
       "      <td>975017</td>\n",
       "    </tr>\n",
       "    <tr>\n",
       "      <th>11</th>\n",
       "      <td>2020</td>\n",
       "      <td>9</td>\n",
       "      <td>1312700</td>\n",
       "    </tr>\n",
       "    <tr>\n",
       "      <th>12</th>\n",
       "      <td>2020</td>\n",
       "      <td>10</td>\n",
       "      <td>1650166</td>\n",
       "    </tr>\n",
       "    <tr>\n",
       "      <th>13</th>\n",
       "      <td>2020</td>\n",
       "      <td>11</td>\n",
       "      <td>1483202</td>\n",
       "    </tr>\n",
       "    <tr>\n",
       "      <th>14</th>\n",
       "      <td>2020</td>\n",
       "      <td>12</td>\n",
       "      <td>1437400</td>\n",
       "    </tr>\n",
       "  </tbody>\n",
       "</table>\n",
       "</div>"
      ],
      "text/plain": [
       "    year  month    count\n",
       "3   2020      1  6317110\n",
       "4   2020      2  6220581\n",
       "5   2020      3  2965620\n",
       "6   2020      4   230531\n",
       "7   2020      5   336835\n",
       "8   2020      6   530115\n",
       "9   2020      7   772188\n",
       "10  2020      8   975017\n",
       "11  2020      9  1312700\n",
       "12  2020     10  1650166\n",
       "13  2020     11  1483202\n",
       "14  2020     12  1437400"
      ]
     },
     "execution_count": 37,
     "metadata": {},
     "output_type": "execute_result"
    }
   ],
   "source": [
    "df20_count = df20_cleaned.groupby([df20_cleaned['tpep_pickup_datetime'].dt.year.rename('year'), df20_cleaned['tpep_pickup_datetime'].dt.month.rename('month')]).agg(count=('VendorID', 'size')).reset_index()\n",
    "df20_count_clean = df20_count[df20_count['year'] == 2020]\n",
    "df20_count_clean"
   ]
  },
  {
   "cell_type": "markdown",
   "id": "99329e94",
   "metadata": {},
   "source": [
    "### Credit Card vs. Cash Payments\n",
    "> <p> Filtering out other payment types that aren't card or cash and making it a df </p>"
   ]
  },
  {
   "cell_type": "code",
   "execution_count": 38,
   "id": "9e868b39",
   "metadata": {},
   "outputs": [],
   "source": [
    "df20_paymenttype = df20_cleaned[(df20_cleaned['payment_type'] == 1) | (df20_cleaned['payment_type'] == 2)]"
   ]
  },
  {
   "cell_type": "code",
   "execution_count": 39,
   "id": "b0025736",
   "metadata": {},
   "outputs": [
    {
     "data": {
      "text/html": [
       "<div>\n",
       "<style scoped>\n",
       "    .dataframe tbody tr th:only-of-type {\n",
       "        vertical-align: middle;\n",
       "    }\n",
       "\n",
       "    .dataframe tbody tr th {\n",
       "        vertical-align: top;\n",
       "    }\n",
       "\n",
       "    .dataframe thead th {\n",
       "        text-align: right;\n",
       "    }\n",
       "</style>\n",
       "<table border=\"1\" class=\"dataframe\">\n",
       "  <thead>\n",
       "    <tr style=\"text-align: right;\">\n",
       "      <th></th>\n",
       "      <th>Payment Type</th>\n",
       "      <th>Count</th>\n",
       "      <th>Year</th>\n",
       "    </tr>\n",
       "  </thead>\n",
       "  <tbody>\n",
       "    <tr>\n",
       "      <th>0</th>\n",
       "      <td>Credit Card</td>\n",
       "      <td>17255529</td>\n",
       "      <td>2020</td>\n",
       "    </tr>\n",
       "    <tr>\n",
       "      <th>1</th>\n",
       "      <td>Cash</td>\n",
       "      <td>6050409</td>\n",
       "      <td>2020</td>\n",
       "    </tr>\n",
       "  </tbody>\n",
       "</table>\n",
       "</div>"
      ],
      "text/plain": [
       "  Payment Type     Count  Year\n",
       "0  Credit Card  17255529  2020\n",
       "1         Cash   6050409  2020"
      ]
     },
     "execution_count": 39,
     "metadata": {},
     "output_type": "execute_result"
    }
   ],
   "source": [
    "pay_breakdown_20 = df20_paymenttype.payment_type.value_counts()\n",
    "pay_breakdown_20_df = pd.DataFrame({'Payment Type': pay_breakdown_20.index, 'Count': pay_breakdown_20.values})\n",
    "pay_breakdown_20_df['Payment Type'] = pay_breakdown_20_df['Payment Type'].replace({1: 'Credit Card', 2: 'Cash'})\n",
    "pay_breakdown_20_df['Year'] = 2020\n",
    "pay_breakdown_20_df"
   ]
  },
  {
   "cell_type": "markdown",
   "id": "d7bdfeca",
   "metadata": {},
   "source": [
    "### Median tip percentage by month\n",
    "> only for trips where payment method is credit card (1)"
   ]
  },
  {
   "cell_type": "code",
   "execution_count": 40,
   "id": "e1892f16",
   "metadata": {
    "scrolled": true
   },
   "outputs": [
    {
     "data": {
      "text/html": [
       "<div>\n",
       "<style scoped>\n",
       "    .dataframe tbody tr th:only-of-type {\n",
       "        vertical-align: middle;\n",
       "    }\n",
       "\n",
       "    .dataframe tbody tr th {\n",
       "        vertical-align: top;\n",
       "    }\n",
       "\n",
       "    .dataframe thead th {\n",
       "        text-align: right;\n",
       "    }\n",
       "</style>\n",
       "<table border=\"1\" class=\"dataframe\">\n",
       "  <thead>\n",
       "    <tr style=\"text-align: right;\">\n",
       "      <th></th>\n",
       "      <th>year</th>\n",
       "      <th>month</th>\n",
       "      <th>count</th>\n",
       "      <th>median_tip</th>\n",
       "    </tr>\n",
       "  </thead>\n",
       "  <tbody>\n",
       "    <tr>\n",
       "      <th>3</th>\n",
       "      <td>2020</td>\n",
       "      <td>1</td>\n",
       "      <td>4653312</td>\n",
       "      <td>26.600000</td>\n",
       "    </tr>\n",
       "    <tr>\n",
       "      <th>4</th>\n",
       "      <td>2020</td>\n",
       "      <td>2</td>\n",
       "      <td>4669249</td>\n",
       "      <td>26.500000</td>\n",
       "    </tr>\n",
       "    <tr>\n",
       "      <th>5</th>\n",
       "      <td>2020</td>\n",
       "      <td>3</td>\n",
       "      <td>2191233</td>\n",
       "      <td>26.370370</td>\n",
       "    </tr>\n",
       "    <tr>\n",
       "      <th>6</th>\n",
       "      <td>2020</td>\n",
       "      <td>4</td>\n",
       "      <td>127412</td>\n",
       "      <td>27.647059</td>\n",
       "    </tr>\n",
       "    <tr>\n",
       "      <th>7</th>\n",
       "      <td>2020</td>\n",
       "      <td>5</td>\n",
       "      <td>168198</td>\n",
       "      <td>27.387960</td>\n",
       "    </tr>\n",
       "    <tr>\n",
       "      <th>8</th>\n",
       "      <td>2020</td>\n",
       "      <td>6</td>\n",
       "      <td>310764</td>\n",
       "      <td>26.981132</td>\n",
       "    </tr>\n",
       "    <tr>\n",
       "      <th>9</th>\n",
       "      <td>2020</td>\n",
       "      <td>7</td>\n",
       "      <td>472831</td>\n",
       "      <td>27.222222</td>\n",
       "    </tr>\n",
       "    <tr>\n",
       "      <th>10</th>\n",
       "      <td>2020</td>\n",
       "      <td>8</td>\n",
       "      <td>617008</td>\n",
       "      <td>27.222222</td>\n",
       "    </tr>\n",
       "    <tr>\n",
       "      <th>11</th>\n",
       "      <td>2020</td>\n",
       "      <td>9</td>\n",
       "      <td>879348</td>\n",
       "      <td>27.083333</td>\n",
       "    </tr>\n",
       "    <tr>\n",
       "      <th>12</th>\n",
       "      <td>2020</td>\n",
       "      <td>10</td>\n",
       "      <td>1151564</td>\n",
       "      <td>26.947368</td>\n",
       "    </tr>\n",
       "    <tr>\n",
       "      <th>13</th>\n",
       "      <td>2020</td>\n",
       "      <td>11</td>\n",
       "      <td>1033517</td>\n",
       "      <td>26.947368</td>\n",
       "    </tr>\n",
       "    <tr>\n",
       "      <th>14</th>\n",
       "      <td>2020</td>\n",
       "      <td>12</td>\n",
       "      <td>980980</td>\n",
       "      <td>27.333333</td>\n",
       "    </tr>\n",
       "  </tbody>\n",
       "</table>\n",
       "</div>"
      ],
      "text/plain": [
       "    year  month    count  median_tip\n",
       "3   2020      1  4653312   26.600000\n",
       "4   2020      2  4669249   26.500000\n",
       "5   2020      3  2191233   26.370370\n",
       "6   2020      4   127412   27.647059\n",
       "7   2020      5   168198   27.387960\n",
       "8   2020      6   310764   26.981132\n",
       "9   2020      7   472831   27.222222\n",
       "10  2020      8   617008   27.222222\n",
       "11  2020      9   879348   27.083333\n",
       "12  2020     10  1151564   26.947368\n",
       "13  2020     11  1033517   26.947368\n",
       "14  2020     12   980980   27.333333"
      ]
     },
     "execution_count": 40,
     "metadata": {},
     "output_type": "execute_result"
    }
   ],
   "source": [
    "df20_credit = df20_cleaned[(df20_cleaned['payment_type'] == 1)]\n",
    "df20_tip = df20_credit.groupby([df20_credit['tpep_pickup_datetime'].dt.year.rename('year'), df20_credit['tpep_pickup_datetime'].dt.month.rename('month')]).agg(count=('VendorID', 'size'), median_tip=('tip_percent', 'median')).reset_index()\n",
    "df20_tip_clean = df20_tip[df20_tip['year'] == 2020]\n",
    "df20_tip_clean"
   ]
  },
  {
   "cell_type": "markdown",
   "id": "dd5923b0",
   "metadata": {},
   "source": [
    "# Create combined df and csv for each output\n",
    "> To be able to combine with 2019 data that I had to analyze separately because it kept crashing the kernel"
   ]
  },
  {
   "cell_type": "markdown",
   "id": "b6cae1fc",
   "metadata": {},
   "source": [
    "2020-2023 Ride Count"
   ]
  },
  {
   "cell_type": "code",
   "execution_count": 41,
   "id": "e9d6afcb",
   "metadata": {},
   "outputs": [],
   "source": [
    "df_counts = pd.concat([df20_count_clean, df21_count_clean, df22_count_clean, df23_count_clean], ignore_index=True)"
   ]
  },
  {
   "cell_type": "code",
   "execution_count": 43,
   "id": "84a2f35e",
   "metadata": {},
   "outputs": [],
   "source": [
    "df_counts.to_csv('df_counts.csv', index = False)"
   ]
  },
  {
   "cell_type": "markdown",
   "id": "7f5c5315",
   "metadata": {},
   "source": [
    "2020-2022 Payment Method Breakdown\n",
    "> Leaving off 2023 because it's not complete and I'll be visualizing total percent difference"
   ]
  },
  {
   "cell_type": "code",
   "execution_count": 44,
   "id": "950368e2",
   "metadata": {},
   "outputs": [],
   "source": [
    "df_pay_breakdowns = pd.concat([pay_breakdown_20_df, pay_breakdown_21_df, pay_breakdown_22_df], ignore_index=True)"
   ]
  },
  {
   "cell_type": "code",
   "execution_count": 45,
   "id": "04987d05",
   "metadata": {},
   "outputs": [],
   "source": [
    "df_pay_breakdowns.to_csv('df_pay_breakdowns.csv', index = False)"
   ]
  },
  {
   "cell_type": "markdown",
   "id": "1c700882",
   "metadata": {},
   "source": [
    "2020-2023 Median Tip Percentage"
   ]
  },
  {
   "cell_type": "code",
   "execution_count": 46,
   "id": "7eb17bcf",
   "metadata": {},
   "outputs": [],
   "source": [
    "df_tips = pd.concat([df20_tip_clean, df21_tip_clean, df22_tip_clean, df23_tip_clean], ignore_index=True)"
   ]
  },
  {
   "cell_type": "code",
   "execution_count": 47,
   "id": "9d7676a3",
   "metadata": {},
   "outputs": [],
   "source": [
    "df_tips.to_csv('df_tips.csv', index = False)"
   ]
  },
  {
   "cell_type": "code",
   "execution_count": null,
   "id": "d825f69c",
   "metadata": {},
   "outputs": [],
   "source": []
  },
  {
   "cell_type": "code",
   "execution_count": null,
   "id": "e6501115",
   "metadata": {},
   "outputs": [],
   "source": []
  }
 ],
 "metadata": {
  "kernelspec": {
   "display_name": "Python 3 (ipykernel)",
   "language": "python",
   "name": "python3"
  },
  "language_info": {
   "codemirror_mode": {
    "name": "ipython",
    "version": 3
   },
   "file_extension": ".py",
   "mimetype": "text/x-python",
   "name": "python",
   "nbconvert_exporter": "python",
   "pygments_lexer": "ipython3",
   "version": "3.10.11"
  }
 },
 "nbformat": 4,
 "nbformat_minor": 5
}
